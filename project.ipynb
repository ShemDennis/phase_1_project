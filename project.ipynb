{
 "cells": [
  {
   "cell_type": "markdown",
   "metadata": {},
   "source": [
    "# Phase 1 Project"
   ]
  },
  {
   "cell_type": "markdown",
   "metadata": {},
   "source": [
    "## Introduction"
   ]
  },
  {
   "cell_type": "markdown",
   "metadata": {},
   "source": [
    "This project is geared toward providing actionable insights for a company that is planning to expand its aviation division and make informed decisions about which aircraft to purchase. By analyzing aviation incident data from the \"AviationData.csv\" and \"USState_Codes.csv\" datasets, the project aims to identify key patterns related to aircraft performance, safety records, and geographic risk factors. Through data cleaning and in-depth analysis, the findings will help the company understand which aircraft models are more reliable, safer, and best suited for their operations, ensuring data-driven decisions for future investments.\n",
    "\n",
    "\n",
    "\n",
    "\n"
   ]
  },
  {
   "cell_type": "markdown",
   "metadata": {},
   "source": [
    "### Dataset explanation"
   ]
  },
  {
   "cell_type": "markdown",
   "metadata": {},
   "source": [
    "For this project, I am presented with two datasets, \"AviationData.csv\" and \"USState_Codes.csv,\" which were downloaded from Kaggle for analysis. Using this data, I am required to perform data cleaning and analysis to derive findings and actionable insights. These insights will help the head of a new aviation division make informed decisions about which aircraft to purchase. The analysis will focus on identifying patterns, trends, and key factors relevant to aircraft performance and safety."
   ]
  },
  {
   "cell_type": "markdown",
   "metadata": {},
   "source": [
    "## Objectives"
   ]
  },
  {
   "cell_type": "markdown",
   "metadata": {},
   "source": [
    "1. Describe the data\n",
    "2. Clean the data\n",
    "3. Perform statistical analysis of the data\n",
    "4. Find emerging trends and patterns in the cleaned data"
   ]
  },
  {
   "cell_type": "markdown",
   "metadata": {},
   "source": [
    "## Description  of the datasets"
   ]
  },
  {
   "cell_type": "markdown",
   "metadata": {},
   "source": [
    "### Importing Modules"
   ]
  },
  {
   "cell_type": "code",
   "execution_count": 136,
   "metadata": {},
   "outputs": [],
   "source": [
    "##Importing pandas, matplotlib.pyplot, numpy, seaborn using aliases\n",
    "import pandas as pd\n",
    "import matplotlib.pyplot as plt\n",
    "import numpy as np\n",
    "import seaborn as sns\n",
    "\n",
    "%matplotlib inline"
   ]
  },
  {
   "cell_type": "markdown",
   "metadata": {},
   "source": [
    "### Loading Datasets"
   ]
  },
  {
   "cell_type": "code",
   "execution_count": 137,
   "metadata": {
    "scrolled": true
   },
   "outputs": [
    {
     "data": {
      "text/html": [
       "<div>\n",
       "<style scoped>\n",
       "    .dataframe tbody tr th:only-of-type {\n",
       "        vertical-align: middle;\n",
       "    }\n",
       "\n",
       "    .dataframe tbody tr th {\n",
       "        vertical-align: top;\n",
       "    }\n",
       "\n",
       "    .dataframe thead th {\n",
       "        text-align: right;\n",
       "    }\n",
       "</style>\n",
       "<table border=\"1\" class=\"dataframe\">\n",
       "  <thead>\n",
       "    <tr style=\"text-align: right;\">\n",
       "      <th></th>\n",
       "      <th>Event.Id</th>\n",
       "      <th>Investigation.Type</th>\n",
       "      <th>Accident.Number</th>\n",
       "      <th>Event.Date</th>\n",
       "      <th>Location</th>\n",
       "      <th>Country</th>\n",
       "      <th>Latitude</th>\n",
       "      <th>Longitude</th>\n",
       "      <th>Airport.Code</th>\n",
       "      <th>Airport.Name</th>\n",
       "      <th>...</th>\n",
       "      <th>Purpose.of.flight</th>\n",
       "      <th>Air.carrier</th>\n",
       "      <th>Total.Fatal.Injuries</th>\n",
       "      <th>Total.Serious.Injuries</th>\n",
       "      <th>Total.Minor.Injuries</th>\n",
       "      <th>Total.Uninjured</th>\n",
       "      <th>Weather.Condition</th>\n",
       "      <th>Broad.phase.of.flight</th>\n",
       "      <th>Report.Status</th>\n",
       "      <th>Publication.Date</th>\n",
       "    </tr>\n",
       "  </thead>\n",
       "  <tbody>\n",
       "    <tr>\n",
       "      <th>0</th>\n",
       "      <td>20001218X45444</td>\n",
       "      <td>Accident</td>\n",
       "      <td>SEA87LA080</td>\n",
       "      <td>1948-10-24</td>\n",
       "      <td>MOOSE CREEK, ID</td>\n",
       "      <td>United States</td>\n",
       "      <td>NaN</td>\n",
       "      <td>NaN</td>\n",
       "      <td>NaN</td>\n",
       "      <td>NaN</td>\n",
       "      <td>...</td>\n",
       "      <td>Personal</td>\n",
       "      <td>NaN</td>\n",
       "      <td>2.0</td>\n",
       "      <td>0.0</td>\n",
       "      <td>0.0</td>\n",
       "      <td>0.0</td>\n",
       "      <td>UNK</td>\n",
       "      <td>Cruise</td>\n",
       "      <td>Probable Cause</td>\n",
       "      <td>NaN</td>\n",
       "    </tr>\n",
       "    <tr>\n",
       "      <th>1</th>\n",
       "      <td>20001218X45447</td>\n",
       "      <td>Accident</td>\n",
       "      <td>LAX94LA336</td>\n",
       "      <td>1962-07-19</td>\n",
       "      <td>BRIDGEPORT, CA</td>\n",
       "      <td>United States</td>\n",
       "      <td>NaN</td>\n",
       "      <td>NaN</td>\n",
       "      <td>NaN</td>\n",
       "      <td>NaN</td>\n",
       "      <td>...</td>\n",
       "      <td>Personal</td>\n",
       "      <td>NaN</td>\n",
       "      <td>4.0</td>\n",
       "      <td>0.0</td>\n",
       "      <td>0.0</td>\n",
       "      <td>0.0</td>\n",
       "      <td>UNK</td>\n",
       "      <td>Unknown</td>\n",
       "      <td>Probable Cause</td>\n",
       "      <td>19-09-1996</td>\n",
       "    </tr>\n",
       "    <tr>\n",
       "      <th>2</th>\n",
       "      <td>20061025X01555</td>\n",
       "      <td>Accident</td>\n",
       "      <td>NYC07LA005</td>\n",
       "      <td>1974-08-30</td>\n",
       "      <td>Saltville, VA</td>\n",
       "      <td>United States</td>\n",
       "      <td>36.922223</td>\n",
       "      <td>-81.878056</td>\n",
       "      <td>NaN</td>\n",
       "      <td>NaN</td>\n",
       "      <td>...</td>\n",
       "      <td>Personal</td>\n",
       "      <td>NaN</td>\n",
       "      <td>3.0</td>\n",
       "      <td>NaN</td>\n",
       "      <td>NaN</td>\n",
       "      <td>NaN</td>\n",
       "      <td>IMC</td>\n",
       "      <td>Cruise</td>\n",
       "      <td>Probable Cause</td>\n",
       "      <td>26-02-2007</td>\n",
       "    </tr>\n",
       "    <tr>\n",
       "      <th>3</th>\n",
       "      <td>20001218X45448</td>\n",
       "      <td>Accident</td>\n",
       "      <td>LAX96LA321</td>\n",
       "      <td>1977-06-19</td>\n",
       "      <td>EUREKA, CA</td>\n",
       "      <td>United States</td>\n",
       "      <td>NaN</td>\n",
       "      <td>NaN</td>\n",
       "      <td>NaN</td>\n",
       "      <td>NaN</td>\n",
       "      <td>...</td>\n",
       "      <td>Personal</td>\n",
       "      <td>NaN</td>\n",
       "      <td>2.0</td>\n",
       "      <td>0.0</td>\n",
       "      <td>0.0</td>\n",
       "      <td>0.0</td>\n",
       "      <td>IMC</td>\n",
       "      <td>Cruise</td>\n",
       "      <td>Probable Cause</td>\n",
       "      <td>12-09-2000</td>\n",
       "    </tr>\n",
       "    <tr>\n",
       "      <th>4</th>\n",
       "      <td>20041105X01764</td>\n",
       "      <td>Accident</td>\n",
       "      <td>CHI79FA064</td>\n",
       "      <td>1979-08-02</td>\n",
       "      <td>Canton, OH</td>\n",
       "      <td>United States</td>\n",
       "      <td>NaN</td>\n",
       "      <td>NaN</td>\n",
       "      <td>NaN</td>\n",
       "      <td>NaN</td>\n",
       "      <td>...</td>\n",
       "      <td>Personal</td>\n",
       "      <td>NaN</td>\n",
       "      <td>1.0</td>\n",
       "      <td>2.0</td>\n",
       "      <td>NaN</td>\n",
       "      <td>0.0</td>\n",
       "      <td>VMC</td>\n",
       "      <td>Approach</td>\n",
       "      <td>Probable Cause</td>\n",
       "      <td>16-04-1980</td>\n",
       "    </tr>\n",
       "  </tbody>\n",
       "</table>\n",
       "<p>5 rows × 31 columns</p>\n",
       "</div>"
      ],
      "text/plain": [
       "         Event.Id Investigation.Type Accident.Number  Event.Date  \\\n",
       "0  20001218X45444           Accident      SEA87LA080  1948-10-24   \n",
       "1  20001218X45447           Accident      LAX94LA336  1962-07-19   \n",
       "2  20061025X01555           Accident      NYC07LA005  1974-08-30   \n",
       "3  20001218X45448           Accident      LAX96LA321  1977-06-19   \n",
       "4  20041105X01764           Accident      CHI79FA064  1979-08-02   \n",
       "\n",
       "          Location        Country   Latitude   Longitude Airport.Code  \\\n",
       "0  MOOSE CREEK, ID  United States        NaN         NaN          NaN   \n",
       "1   BRIDGEPORT, CA  United States        NaN         NaN          NaN   \n",
       "2    Saltville, VA  United States  36.922223  -81.878056          NaN   \n",
       "3       EUREKA, CA  United States        NaN         NaN          NaN   \n",
       "4       Canton, OH  United States        NaN         NaN          NaN   \n",
       "\n",
       "  Airport.Name  ... Purpose.of.flight Air.carrier Total.Fatal.Injuries  \\\n",
       "0          NaN  ...          Personal         NaN                  2.0   \n",
       "1          NaN  ...          Personal         NaN                  4.0   \n",
       "2          NaN  ...          Personal         NaN                  3.0   \n",
       "3          NaN  ...          Personal         NaN                  2.0   \n",
       "4          NaN  ...          Personal         NaN                  1.0   \n",
       "\n",
       "  Total.Serious.Injuries Total.Minor.Injuries Total.Uninjured  \\\n",
       "0                    0.0                  0.0             0.0   \n",
       "1                    0.0                  0.0             0.0   \n",
       "2                    NaN                  NaN             NaN   \n",
       "3                    0.0                  0.0             0.0   \n",
       "4                    2.0                  NaN             0.0   \n",
       "\n",
       "  Weather.Condition  Broad.phase.of.flight   Report.Status Publication.Date  \n",
       "0               UNK                 Cruise  Probable Cause              NaN  \n",
       "1               UNK                Unknown  Probable Cause       19-09-1996  \n",
       "2               IMC                 Cruise  Probable Cause       26-02-2007  \n",
       "3               IMC                 Cruise  Probable Cause       12-09-2000  \n",
       "4               VMC               Approach  Probable Cause       16-04-1980  \n",
       "\n",
       "[5 rows x 31 columns]"
      ]
     },
     "execution_count": 137,
     "metadata": {},
     "output_type": "execute_result"
    }
   ],
   "source": [
    "#Load AviationData.csv as a dataframe \"df\", change encoding, add memory\n",
    "df = pd.read_csv('AviationData.csv', encoding='Latin', low_memory=False)\n",
    "#Display the dataframe head\n",
    "df.head()"
   ]
  },
  {
   "cell_type": "markdown",
   "metadata": {},
   "source": [
    "### Information about the dataframe"
   ]
  },
  {
   "cell_type": "markdown",
   "metadata": {},
   "source": [
    "\n",
    "In this analysis, I will explore the dataset structure using df.columns and determine its size with df.shape. I will also apply df.describe() to generate summary statistics, providing insights into key numeric values like fatalities and injuries, helping assess and prepare the data for further analysis."
   ]
  },
  {
   "cell_type": "code",
   "execution_count": 138,
   "metadata": {},
   "outputs": [
    {
     "data": {
      "text/plain": [
       "Index(['Event.Id', 'Investigation.Type', 'Accident.Number', 'Event.Date',\n",
       "       'Location', 'Country', 'Latitude', 'Longitude', 'Airport.Code',\n",
       "       'Airport.Name', 'Injury.Severity', 'Aircraft.damage',\n",
       "       'Aircraft.Category', 'Registration.Number', 'Make', 'Model',\n",
       "       'Amateur.Built', 'Number.of.Engines', 'Engine.Type', 'FAR.Description',\n",
       "       'Schedule', 'Purpose.of.flight', 'Air.carrier', 'Total.Fatal.Injuries',\n",
       "       'Total.Serious.Injuries', 'Total.Minor.Injuries', 'Total.Uninjured',\n",
       "       'Weather.Condition', 'Broad.phase.of.flight', 'Report.Status',\n",
       "       'Publication.Date'],\n",
       "      dtype='object')"
      ]
     },
     "execution_count": 138,
     "metadata": {},
     "output_type": "execute_result"
    }
   ],
   "source": [
    "#Find the columns in the dataframe\n",
    "df.columns"
   ]
  },
  {
   "cell_type": "code",
   "execution_count": 139,
   "metadata": {},
   "outputs": [
    {
     "data": {
      "text/plain": [
       "(88889, 31)"
      ]
     },
     "execution_count": 139,
     "metadata": {},
     "output_type": "execute_result"
    }
   ],
   "source": [
    "#Finding the shape, number of columns and rows\n",
    "df.shape"
   ]
  },
  {
   "cell_type": "code",
   "execution_count": 140,
   "metadata": {
    "scrolled": true
   },
   "outputs": [
    {
     "data": {
      "text/plain": [
       "<bound method NDFrame.describe of              Event.Id Investigation.Type Accident.Number  Event.Date  \\\n",
       "0      20001218X45444           Accident      SEA87LA080  1948-10-24   \n",
       "1      20001218X45447           Accident      LAX94LA336  1962-07-19   \n",
       "2      20061025X01555           Accident      NYC07LA005  1974-08-30   \n",
       "3      20001218X45448           Accident      LAX96LA321  1977-06-19   \n",
       "4      20041105X01764           Accident      CHI79FA064  1979-08-02   \n",
       "...               ...                ...             ...         ...   \n",
       "88884  20221227106491           Accident      ERA23LA093  2022-12-26   \n",
       "88885  20221227106494           Accident      ERA23LA095  2022-12-26   \n",
       "88886  20221227106497           Accident      WPR23LA075  2022-12-26   \n",
       "88887  20221227106498           Accident      WPR23LA076  2022-12-26   \n",
       "88888  20221230106513           Accident      ERA23LA097  2022-12-29   \n",
       "\n",
       "              Location        Country   Latitude   Longitude Airport.Code  \\\n",
       "0      MOOSE CREEK, ID  United States        NaN         NaN          NaN   \n",
       "1       BRIDGEPORT, CA  United States        NaN         NaN          NaN   \n",
       "2        Saltville, VA  United States  36.922223  -81.878056          NaN   \n",
       "3           EUREKA, CA  United States        NaN         NaN          NaN   \n",
       "4           Canton, OH  United States        NaN         NaN          NaN   \n",
       "...                ...            ...        ...         ...          ...   \n",
       "88884    Annapolis, MD  United States        NaN         NaN          NaN   \n",
       "88885      Hampton, NH  United States        NaN         NaN          NaN   \n",
       "88886       Payson, AZ  United States    341525N    1112021W          PAN   \n",
       "88887       Morgan, UT  United States        NaN         NaN          NaN   \n",
       "88888       Athens, GA  United States        NaN         NaN          NaN   \n",
       "\n",
       "      Airport.Name  ... Purpose.of.flight         Air.carrier  \\\n",
       "0              NaN  ...          Personal                 NaN   \n",
       "1              NaN  ...          Personal                 NaN   \n",
       "2              NaN  ...          Personal                 NaN   \n",
       "3              NaN  ...          Personal                 NaN   \n",
       "4              NaN  ...          Personal                 NaN   \n",
       "...            ...  ...               ...                 ...   \n",
       "88884          NaN  ...          Personal                 NaN   \n",
       "88885          NaN  ...               NaN                 NaN   \n",
       "88886       PAYSON  ...          Personal                 NaN   \n",
       "88887          NaN  ...          Personal  MC CESSNA 210N LLC   \n",
       "88888          NaN  ...          Personal                 NaN   \n",
       "\n",
       "      Total.Fatal.Injuries Total.Serious.Injuries Total.Minor.Injuries  \\\n",
       "0                      2.0                    0.0                  0.0   \n",
       "1                      4.0                    0.0                  0.0   \n",
       "2                      3.0                    NaN                  NaN   \n",
       "3                      2.0                    0.0                  0.0   \n",
       "4                      1.0                    2.0                  NaN   \n",
       "...                    ...                    ...                  ...   \n",
       "88884                  0.0                    1.0                  0.0   \n",
       "88885                  0.0                    0.0                  0.0   \n",
       "88886                  0.0                    0.0                  0.0   \n",
       "88887                  0.0                    0.0                  0.0   \n",
       "88888                  0.0                    1.0                  0.0   \n",
       "\n",
       "      Total.Uninjured Weather.Condition  Broad.phase.of.flight  \\\n",
       "0                 0.0               UNK                 Cruise   \n",
       "1                 0.0               UNK                Unknown   \n",
       "2                 NaN               IMC                 Cruise   \n",
       "3                 0.0               IMC                 Cruise   \n",
       "4                 0.0               VMC               Approach   \n",
       "...               ...               ...                    ...   \n",
       "88884             0.0               NaN                    NaN   \n",
       "88885             0.0               NaN                    NaN   \n",
       "88886             1.0               VMC                    NaN   \n",
       "88887             0.0               NaN                    NaN   \n",
       "88888             1.0               NaN                    NaN   \n",
       "\n",
       "        Report.Status Publication.Date  \n",
       "0      Probable Cause              NaN  \n",
       "1      Probable Cause       19-09-1996  \n",
       "2      Probable Cause       26-02-2007  \n",
       "3      Probable Cause       12-09-2000  \n",
       "4      Probable Cause       16-04-1980  \n",
       "...               ...              ...  \n",
       "88884             NaN       29-12-2022  \n",
       "88885             NaN              NaN  \n",
       "88886             NaN       27-12-2022  \n",
       "88887             NaN              NaN  \n",
       "88888             NaN       30-12-2022  \n",
       "\n",
       "[88889 rows x 31 columns]>"
      ]
     },
     "execution_count": 140,
     "metadata": {},
     "output_type": "execute_result"
    }
   ],
   "source": [
    "#Finding key statistics of the dataframe\n",
    "df.describe"
   ]
  },
  {
   "cell_type": "code",
   "execution_count": 141,
   "metadata": {},
   "outputs": [
    {
     "data": {
      "text/plain": [
       "Event.Id                   object\n",
       "Investigation.Type         object\n",
       "Accident.Number            object\n",
       "Event.Date                 object\n",
       "Location                   object\n",
       "Country                    object\n",
       "Latitude                   object\n",
       "Longitude                  object\n",
       "Airport.Code               object\n",
       "Airport.Name               object\n",
       "Injury.Severity            object\n",
       "Aircraft.damage            object\n",
       "Aircraft.Category          object\n",
       "Registration.Number        object\n",
       "Make                       object\n",
       "Model                      object\n",
       "Amateur.Built              object\n",
       "Number.of.Engines         float64\n",
       "Engine.Type                object\n",
       "FAR.Description            object\n",
       "Schedule                   object\n",
       "Purpose.of.flight          object\n",
       "Air.carrier                object\n",
       "Total.Fatal.Injuries      float64\n",
       "Total.Serious.Injuries    float64\n",
       "Total.Minor.Injuries      float64\n",
       "Total.Uninjured           float64\n",
       "Weather.Condition          object\n",
       "Broad.phase.of.flight      object\n",
       "Report.Status              object\n",
       "Publication.Date           object\n",
       "dtype: object"
      ]
     },
     "execution_count": 141,
     "metadata": {},
     "output_type": "execute_result"
    }
   ],
   "source": [
    "#Finding the data types of columns in the dataset\n",
    "df.dtypes"
   ]
  },
  {
   "cell_type": "markdown",
   "metadata": {},
   "source": [
    "#### What have I learnt?"
   ]
  },
  {
   "cell_type": "markdown",
   "metadata": {},
   "source": [
    "The dataset contains 88,889 aviation incidents with 31 columns detailing event dates, locations, aircraft info, and injury severities. It has missing values in key fields like geographic data and injuries, and mixed data types that require cleaning. The dataset contains different columns which have data of two data types, objects, and float values, "
   ]
  },
  {
   "cell_type": "markdown",
   "metadata": {},
   "source": [
    "## Cleaning the datasets"
   ]
  },
  {
   "cell_type": "markdown",
   "metadata": {},
   "source": [
    "At this stage, null values and duplicates will be checked for. I intend to improve the quality and reliability of the dataset by removing duplicates and handling null values. This process ensures that redundant or incomplete data is eliminated, reducing potential biases and errors. Addressing missing data will be caried out either by removal or imputation, and eliminating duplicate records. "
   ]
  },
  {
   "cell_type": "markdown",
   "metadata": {},
   "source": [
    "### Finding with Null Values"
   ]
  },
  {
   "cell_type": "code",
   "execution_count": 142,
   "metadata": {
    "scrolled": true
   },
   "outputs": [
    {
     "name": "stdout",
     "output_type": "stream",
     "text": [
      "Event.Id                   0.000000\n",
      "Investigation.Type         0.000000\n",
      "Accident.Number            0.000000\n",
      "Event.Date                 0.000000\n",
      "Location                   0.058500\n",
      "Country                    0.254250\n",
      "Latitude                  61.320298\n",
      "Longitude                 61.330423\n",
      "Airport.Code              43.469946\n",
      "Airport.Name              40.611324\n",
      "Injury.Severity            1.124999\n",
      "Aircraft.damage            3.593246\n",
      "Aircraft.Category         63.677170\n",
      "Registration.Number        1.481623\n",
      "Make                       0.070875\n",
      "Model                      0.103500\n",
      "Amateur.Built              0.114750\n",
      "Number.of.Engines          6.844491\n",
      "Engine.Type                7.961615\n",
      "FAR.Description           63.974170\n",
      "Schedule                  85.845268\n",
      "Purpose.of.flight          6.965991\n",
      "Air.carrier               81.271023\n",
      "Total.Fatal.Injuries      12.826109\n",
      "Total.Serious.Injuries    14.073732\n",
      "Total.Minor.Injuries      13.424608\n",
      "Total.Uninjured            6.650992\n",
      "Weather.Condition          5.053494\n",
      "Broad.phase.of.flight     30.560587\n",
      "Report.Status              7.178616\n",
      "Publication.Date          15.492356\n",
      "dtype: float64\n"
     ]
    }
   ],
   "source": [
    "# Calculating and displaying null values per column as a percentage of the entire DataFrame\n",
    "null_percentage = (df.isnull().sum() / len(df)) * 100\n",
    "print(null_percentage)\n"
   ]
  },
  {
   "cell_type": "code",
   "execution_count": 143,
   "metadata": {},
   "outputs": [
    {
     "data": {
      "text/plain": [
       "0"
      ]
     },
     "execution_count": 143,
     "metadata": {},
     "output_type": "execute_result"
    }
   ],
   "source": [
    "#Finding duplicated rows in the dataset\n",
    "df.duplicated().sum()"
   ]
  },
  {
   "cell_type": "markdown",
   "metadata": {},
   "source": [
    "Based on a 30% missing data threshold recommended by vast data cleaning information sources, the columns that should be removed include Latitude (61.32%), Longitude (61.33%), Airport.Code (43.47%), Airport.Name (40.61%), Aircraft.Category (63.68%), FAR.Description (63.97%), Schedule (85.85%), and Air.carrier (81.27%). Additionally, columns like Total.Fatal.Injuries (12.83%), Total.Serious.Injuries (14.07%), Total.Minor.Injuries (13.42%), and Publication.Date (15.49%) may be considered for removal depending on their importance to the analysis. Removing these columns improves data quality by addressing significant gaps."
   ]
  },
  {
   "cell_type": "code",
   "execution_count": 144,
   "metadata": {},
   "outputs": [
    {
     "name": "stdout",
     "output_type": "stream",
     "text": [
      "Columns to be dropped due to missing more than 30% of data:  ['Latitude', 'Longitude', 'Airport.Code', 'Airport.Name', 'Aircraft.Category', 'FAR.Description', 'Schedule', 'Air.carrier', 'Broad.phase.of.flight']\n"
     ]
    },
    {
     "data": {
      "text/html": [
       "<div>\n",
       "<style scoped>\n",
       "    .dataframe tbody tr th:only-of-type {\n",
       "        vertical-align: middle;\n",
       "    }\n",
       "\n",
       "    .dataframe tbody tr th {\n",
       "        vertical-align: top;\n",
       "    }\n",
       "\n",
       "    .dataframe thead th {\n",
       "        text-align: right;\n",
       "    }\n",
       "</style>\n",
       "<table border=\"1\" class=\"dataframe\">\n",
       "  <thead>\n",
       "    <tr style=\"text-align: right;\">\n",
       "      <th></th>\n",
       "      <th>Event.Id</th>\n",
       "      <th>Investigation.Type</th>\n",
       "      <th>Accident.Number</th>\n",
       "      <th>Event.Date</th>\n",
       "      <th>Location</th>\n",
       "      <th>Country</th>\n",
       "      <th>Injury.Severity</th>\n",
       "      <th>Aircraft.damage</th>\n",
       "      <th>Registration.Number</th>\n",
       "      <th>Make</th>\n",
       "      <th>...</th>\n",
       "      <th>Number.of.Engines</th>\n",
       "      <th>Engine.Type</th>\n",
       "      <th>Purpose.of.flight</th>\n",
       "      <th>Total.Fatal.Injuries</th>\n",
       "      <th>Total.Serious.Injuries</th>\n",
       "      <th>Total.Minor.Injuries</th>\n",
       "      <th>Total.Uninjured</th>\n",
       "      <th>Weather.Condition</th>\n",
       "      <th>Report.Status</th>\n",
       "      <th>Publication.Date</th>\n",
       "    </tr>\n",
       "  </thead>\n",
       "  <tbody>\n",
       "    <tr>\n",
       "      <th>0</th>\n",
       "      <td>20001218X45444</td>\n",
       "      <td>Accident</td>\n",
       "      <td>SEA87LA080</td>\n",
       "      <td>1948-10-24</td>\n",
       "      <td>MOOSE CREEK, ID</td>\n",
       "      <td>United States</td>\n",
       "      <td>Fatal(2)</td>\n",
       "      <td>Destroyed</td>\n",
       "      <td>NC6404</td>\n",
       "      <td>Stinson</td>\n",
       "      <td>...</td>\n",
       "      <td>1.0</td>\n",
       "      <td>Reciprocating</td>\n",
       "      <td>Personal</td>\n",
       "      <td>2.0</td>\n",
       "      <td>0.0</td>\n",
       "      <td>0.0</td>\n",
       "      <td>0.0</td>\n",
       "      <td>UNK</td>\n",
       "      <td>Probable Cause</td>\n",
       "      <td>NaN</td>\n",
       "    </tr>\n",
       "    <tr>\n",
       "      <th>1</th>\n",
       "      <td>20001218X45447</td>\n",
       "      <td>Accident</td>\n",
       "      <td>LAX94LA336</td>\n",
       "      <td>1962-07-19</td>\n",
       "      <td>BRIDGEPORT, CA</td>\n",
       "      <td>United States</td>\n",
       "      <td>Fatal(4)</td>\n",
       "      <td>Destroyed</td>\n",
       "      <td>N5069P</td>\n",
       "      <td>Piper</td>\n",
       "      <td>...</td>\n",
       "      <td>1.0</td>\n",
       "      <td>Reciprocating</td>\n",
       "      <td>Personal</td>\n",
       "      <td>4.0</td>\n",
       "      <td>0.0</td>\n",
       "      <td>0.0</td>\n",
       "      <td>0.0</td>\n",
       "      <td>UNK</td>\n",
       "      <td>Probable Cause</td>\n",
       "      <td>19-09-1996</td>\n",
       "    </tr>\n",
       "    <tr>\n",
       "      <th>2</th>\n",
       "      <td>20061025X01555</td>\n",
       "      <td>Accident</td>\n",
       "      <td>NYC07LA005</td>\n",
       "      <td>1974-08-30</td>\n",
       "      <td>Saltville, VA</td>\n",
       "      <td>United States</td>\n",
       "      <td>Fatal(3)</td>\n",
       "      <td>Destroyed</td>\n",
       "      <td>N5142R</td>\n",
       "      <td>Cessna</td>\n",
       "      <td>...</td>\n",
       "      <td>1.0</td>\n",
       "      <td>Reciprocating</td>\n",
       "      <td>Personal</td>\n",
       "      <td>3.0</td>\n",
       "      <td>NaN</td>\n",
       "      <td>NaN</td>\n",
       "      <td>NaN</td>\n",
       "      <td>IMC</td>\n",
       "      <td>Probable Cause</td>\n",
       "      <td>26-02-2007</td>\n",
       "    </tr>\n",
       "    <tr>\n",
       "      <th>3</th>\n",
       "      <td>20001218X45448</td>\n",
       "      <td>Accident</td>\n",
       "      <td>LAX96LA321</td>\n",
       "      <td>1977-06-19</td>\n",
       "      <td>EUREKA, CA</td>\n",
       "      <td>United States</td>\n",
       "      <td>Fatal(2)</td>\n",
       "      <td>Destroyed</td>\n",
       "      <td>N1168J</td>\n",
       "      <td>Rockwell</td>\n",
       "      <td>...</td>\n",
       "      <td>1.0</td>\n",
       "      <td>Reciprocating</td>\n",
       "      <td>Personal</td>\n",
       "      <td>2.0</td>\n",
       "      <td>0.0</td>\n",
       "      <td>0.0</td>\n",
       "      <td>0.0</td>\n",
       "      <td>IMC</td>\n",
       "      <td>Probable Cause</td>\n",
       "      <td>12-09-2000</td>\n",
       "    </tr>\n",
       "    <tr>\n",
       "      <th>4</th>\n",
       "      <td>20041105X01764</td>\n",
       "      <td>Accident</td>\n",
       "      <td>CHI79FA064</td>\n",
       "      <td>1979-08-02</td>\n",
       "      <td>Canton, OH</td>\n",
       "      <td>United States</td>\n",
       "      <td>Fatal(1)</td>\n",
       "      <td>Destroyed</td>\n",
       "      <td>N15NY</td>\n",
       "      <td>Cessna</td>\n",
       "      <td>...</td>\n",
       "      <td>NaN</td>\n",
       "      <td>NaN</td>\n",
       "      <td>Personal</td>\n",
       "      <td>1.0</td>\n",
       "      <td>2.0</td>\n",
       "      <td>NaN</td>\n",
       "      <td>0.0</td>\n",
       "      <td>VMC</td>\n",
       "      <td>Probable Cause</td>\n",
       "      <td>16-04-1980</td>\n",
       "    </tr>\n",
       "  </tbody>\n",
       "</table>\n",
       "<p>5 rows × 22 columns</p>\n",
       "</div>"
      ],
      "text/plain": [
       "         Event.Id Investigation.Type Accident.Number  Event.Date  \\\n",
       "0  20001218X45444           Accident      SEA87LA080  1948-10-24   \n",
       "1  20001218X45447           Accident      LAX94LA336  1962-07-19   \n",
       "2  20061025X01555           Accident      NYC07LA005  1974-08-30   \n",
       "3  20001218X45448           Accident      LAX96LA321  1977-06-19   \n",
       "4  20041105X01764           Accident      CHI79FA064  1979-08-02   \n",
       "\n",
       "          Location        Country Injury.Severity Aircraft.damage  \\\n",
       "0  MOOSE CREEK, ID  United States        Fatal(2)       Destroyed   \n",
       "1   BRIDGEPORT, CA  United States        Fatal(4)       Destroyed   \n",
       "2    Saltville, VA  United States        Fatal(3)       Destroyed   \n",
       "3       EUREKA, CA  United States        Fatal(2)       Destroyed   \n",
       "4       Canton, OH  United States        Fatal(1)       Destroyed   \n",
       "\n",
       "  Registration.Number      Make  ... Number.of.Engines    Engine.Type  \\\n",
       "0              NC6404   Stinson  ...               1.0  Reciprocating   \n",
       "1              N5069P     Piper  ...               1.0  Reciprocating   \n",
       "2              N5142R    Cessna  ...               1.0  Reciprocating   \n",
       "3              N1168J  Rockwell  ...               1.0  Reciprocating   \n",
       "4               N15NY    Cessna  ...               NaN            NaN   \n",
       "\n",
       "   Purpose.of.flight Total.Fatal.Injuries Total.Serious.Injuries  \\\n",
       "0           Personal                  2.0                    0.0   \n",
       "1           Personal                  4.0                    0.0   \n",
       "2           Personal                  3.0                    NaN   \n",
       "3           Personal                  2.0                    0.0   \n",
       "4           Personal                  1.0                    2.0   \n",
       "\n",
       "   Total.Minor.Injuries  Total.Uninjured  Weather.Condition   Report.Status  \\\n",
       "0                   0.0              0.0                UNK  Probable Cause   \n",
       "1                   0.0              0.0                UNK  Probable Cause   \n",
       "2                   NaN              NaN                IMC  Probable Cause   \n",
       "3                   0.0              0.0                IMC  Probable Cause   \n",
       "4                   NaN              0.0                VMC  Probable Cause   \n",
       "\n",
       "  Publication.Date  \n",
       "0              NaN  \n",
       "1       19-09-1996  \n",
       "2       26-02-2007  \n",
       "3       12-09-2000  \n",
       "4       16-04-1980  \n",
       "\n",
       "[5 rows x 22 columns]"
      ]
     },
     "execution_count": 144,
     "metadata": {},
     "output_type": "execute_result"
    }
   ],
   "source": [
    "# Identifying columns with more than 30% missing data\n",
    "missing_threshold = 0.30\n",
    "columns_to_drop = df.columns[df.isnull().mean() > missing_threshold]\n",
    "\n",
    "# Dropping the columns from the DataFrame\n",
    "df = df.drop(columns=columns_to_drop)\n",
    "\n",
    "# Display the columns that were dropped\n",
    "print(\"Columns to be dropped due to missing more than 30% of data: \", [element for element in columns_to_drop])\n",
    "\n",
    "# Display the cleaned DataFrame (first few rows)\n",
    "df.head()\n"
   ]
  },
  {
   "cell_type": "markdown",
   "metadata": {},
   "source": [
    "For numeric columns like Total.Fatal.Injuries, Total.Serious.Injuries, Total.Minor.Injuries, and Total.Uninjured, median imputation is used to replace missing values with the median, which helps handle outliers. For categorical columns such as Injury.Severity, Aircraft.damage, Weather.Condition, and others, mode imputation is applied, filling missing values with the most frequent value in each column. Additionally, \"Unknown\" is used for the Location and Country columns, ensures that these gaps are visible and won't skew the analysis which could misrepresent the data. This process helps prepare the dataset for analysis by addressing missing data in a contextually relevant way while retaining the data integrity."
   ]
  },
  {
   "cell_type": "code",
   "execution_count": 145,
   "metadata": {},
   "outputs": [],
   "source": [
    "# Mean/Median imputation for numeric columns\n",
    "df['Total.Fatal.Injuries'].fillna(df['Total.Fatal.Injuries'].median(), inplace=True)\n",
    "df['Total.Serious.Injuries'].fillna(df['Total.Serious.Injuries'].median(), inplace=True)\n",
    "df['Total.Minor.Injuries'].fillna(df['Total.Minor.Injuries'].median(), inplace=True)\n",
    "df['Total.Uninjured'].fillna(df['Total.Uninjured'].median(), inplace=True)\n",
    "\n",
    "# Mode imputation for categorical columns\n",
    "df['Injury.Severity'].fillna(df['Injury.Severity'].mode()[0], inplace=True)\n",
    "df['Aircraft.damage'].fillna(df['Aircraft.damage'].mode()[0], inplace=True)\n",
    "df['Weather.Condition'].fillna(df['Weather.Condition'].mode()[0], inplace=True)\n",
    "df['Registration.Number'].fillna(df['Registration.Number'].mode()[0], inplace=True)\n",
    "df['Make'].fillna(df['Make'].mode()[0], inplace=True)\n",
    "df['Model'].fillna(df['Model'].mode()[0], inplace=True)\n",
    "df['Amateur.Built'].fillna(df['Amateur.Built'].mode()[0], inplace=True)\n",
    "df['Number.of.Engines'].fillna(df['Number.of.Engines'].mode()[0], inplace=True)\n",
    "df['Engine.Type'].fillna(df['Engine.Type'].mode()[0], inplace=True)\n",
    "df['Purpose.of.flight'].fillna(df['Purpose.of.flight'].mode()[0], inplace=True)\n",
    "df['Report.Status'].fillna(df['Report.Status'].mode()[0], inplace=True)\n",
    "df['Publication.Date'].fillna(df['Publication.Date'].mode()[0], inplace=True)\n",
    "# Calculate the mode of the 'Weather.Condition' column\n",
    "# Strip leading/trailing spaces and standardize to 'Unknown' for any variations\n",
    "df['Weather.Condition'] = df['Weather.Condition'].str.strip().str.capitalize()\n",
    "\n",
    "# Calculate the mode of the 'Weather.Condition' column (excluding 'Unknown')\n",
    "weather_mode = df[df['Weather.Condition'] != 'Unknown']['Weather.Condition'].mode()[0]\n",
    "\n",
    "# Replace 'Unknown' with the mode\n",
    "df['Weather.Condition'] = df['Weather.Condition'].replace('Unknown', weather_mode)\n",
    "\n",
    "# Replace 'Unknown' with the mode\n",
    "df['Weather.Condition'] = df['Weather.Condition'].replace('Unknown', weather_mode)\n",
    "\n",
    "\n",
    "\n",
    "# Fill missing values in 'Location' and 'Country' with 'Unknown'\n",
    "df['Location'].fillna('Unknown', inplace=True)\n",
    "df['Country'].fillna('Unknown', inplace=True)\n"
   ]
  },
  {
   "cell_type": "markdown",
   "metadata": {},
   "source": [
    "Looking to see if there are any null values in the dataframe"
   ]
  },
  {
   "cell_type": "code",
   "execution_count": 146,
   "metadata": {},
   "outputs": [
    {
     "data": {
      "text/plain": [
       "0"
      ]
     },
     "execution_count": 146,
     "metadata": {},
     "output_type": "execute_result"
    }
   ],
   "source": [
    "#Finding null values\n",
    "df.isnull().values.sum()"
   ]
  },
  {
   "cell_type": "markdown",
   "metadata": {},
   "source": [
    "## Familiarize with the cleaned data"
   ]
  },
  {
   "cell_type": "markdown",
   "metadata": {},
   "source": [
    "What unique Values exist in the dataset? What are we dealing with? The following columns will be investigated for unique values:\n",
    "Investigation.Type, Locations, Countries, Make, Models, Engine.Type, Purpose.Of.Flight"
   ]
  },
  {
   "cell_type": "code",
   "execution_count": 147,
   "metadata": {},
   "outputs": [
    {
     "name": "stdout",
     "output_type": "stream",
     "text": [
      "There are 13 unique engines: \n"
     ]
    },
    {
     "data": {
      "text/plain": [
       "array(['Reciprocating', 'Turbo Fan', 'Turbo Shaft', 'Unknown',\n",
       "       'Turbo Prop', 'Turbo Jet', 'None', 'Electric', 'Hybrid Rocket',\n",
       "       'Geared Turbofan', 'LR', 'NONE', 'UNK'], dtype=object)"
      ]
     },
     "execution_count": 147,
     "metadata": {},
     "output_type": "execute_result"
    }
   ],
   "source": [
    "# Unique engines\n",
    "print(f'There are {df[\"Engine.Type\"].nunique()} unique engines: ')\n",
    "df['Engine.Type'].unique()"
   ]
  },
  {
   "cell_type": "code",
   "execution_count": 148,
   "metadata": {},
   "outputs": [
    {
     "name": "stdout",
     "output_type": "stream",
     "text": [
      "There are 8237 distinct aircraft makes: \n"
     ]
    },
    {
     "data": {
      "text/plain": [
       "array(['Stinson', 'Piper', 'Cessna', ..., 'JAMES R DERNOVSEK',\n",
       "       'ORLICAN S R O', 'ROYSE RALPH L'], dtype=object)"
      ]
     },
     "execution_count": 148,
     "metadata": {},
     "output_type": "execute_result"
    }
   ],
   "source": [
    "# Unique Makes\n",
    "print(f'There are {df[\"Make\"].nunique()} distinct aircraft makes: ')\n",
    "df['Make'].unique()"
   ]
  },
  {
   "cell_type": "code",
   "execution_count": 149,
   "metadata": {},
   "outputs": [
    {
     "name": "stdout",
     "output_type": "stream",
     "text": [
      "There are 12318 distinct aircraft models: \n"
     ]
    },
    {
     "data": {
      "text/plain": [
       "array(['108-3', 'PA24-180', '172M', ..., 'ROTORWAY EXEC 162-F',\n",
       "       'KITFOX S5', 'M-8 EAGLE'], dtype=object)"
      ]
     },
     "execution_count": 149,
     "metadata": {},
     "output_type": "execute_result"
    }
   ],
   "source": [
    "# Unique Models\n",
    "print(f'There are {df[\"Model\"].nunique()} distinct aircraft models: ')\n",
    "df['Model'].unique()"
   ]
  },
  {
   "cell_type": "markdown",
   "metadata": {},
   "source": [
    "During an incident, what investigations are carried out in the aircraft industry?"
   ]
  },
  {
   "cell_type": "code",
   "execution_count": 150,
   "metadata": {},
   "outputs": [
    {
     "name": "stdout",
     "output_type": "stream",
     "text": [
      "There are 2 investigation types: \n"
     ]
    },
    {
     "data": {
      "text/plain": [
       "array(['Accident', 'Incident'], dtype=object)"
      ]
     },
     "execution_count": 150,
     "metadata": {},
     "output_type": "execute_result"
    }
   ],
   "source": [
    "# Investigation Types\n",
    "print(f'There are {df[\"Investigation.Type\"].nunique()} investigation types: ')\n",
    "df['Investigation.Type'].unique()"
   ]
  },
  {
   "cell_type": "markdown",
   "metadata": {},
   "source": [
    "What locations and countries did these incidents occur?"
   ]
  },
  {
   "cell_type": "code",
   "execution_count": 151,
   "metadata": {},
   "outputs": [
    {
     "name": "stdout",
     "output_type": "stream",
     "text": [
      "These incidents took place in 219 Countries: \n"
     ]
    },
    {
     "data": {
      "text/plain": [
       "array(['United States', 'Unknown', 'GULF OF MEXICO', 'Puerto Rico',\n",
       "       'ATLANTIC OCEAN', 'HIGH ISLAND', 'Bahamas', 'MISSING', 'Pakistan',\n",
       "       'Angola', 'Germany', 'Korea, Republic Of', 'Martinique',\n",
       "       'American Samoa', 'PACIFIC OCEAN', 'Canada', 'Bolivia', 'Mexico',\n",
       "       'Dominica', 'Netherlands Antilles', 'Iceland', 'Greece', 'Guam',\n",
       "       'Australia', 'CARIBBEAN SEA', 'West Indies', 'Japan',\n",
       "       'Philippines', 'Venezuela', 'Bermuda', 'San Juan Islands',\n",
       "       'Colombia', 'El Salvador', 'United Kingdom',\n",
       "       'British Virgin Islands', 'Netherlands', 'Costa Rica',\n",
       "       'Mozambique', 'Jamaica', 'Panama', 'Guyana', 'Norway', 'Hong Kong',\n",
       "       'Portugal', 'Malaysia', 'Turks And Caicos Islands',\n",
       "       'Northern Mariana Islands', 'Dominican Republic', 'Suriname',\n",
       "       'Honduras', 'Congo', 'Belize', 'Guatemala', 'Anguilla', 'France',\n",
       "       'St Vincent And The Grenadines', 'Haiti', 'Montserrat',\n",
       "       'Papua New Guinea', 'Cayman Islands', 'Sweden', 'Taiwan',\n",
       "       'Senegal', 'Barbados', 'BLOCK 651A', 'Brazil', 'Mauritius',\n",
       "       'Argentina', 'Kenya', 'Ecuador', 'Aruba', 'Saudi Arabia', 'Cuba',\n",
       "       'Italy', 'French Guiana', 'Denmark', 'Sudan', 'Spain',\n",
       "       'Federated States Of Micronesia', 'St Lucia', 'Switzerland',\n",
       "       'Central African Republic', 'Algeria', 'Turkey', 'Nicaragua',\n",
       "       'Marshall Islands', 'Trinidad And Tobago', 'Poland', 'Belarus',\n",
       "       'Austria', 'Malta', 'Cameroon', 'Solomon Islands', 'Zambia',\n",
       "       'Peru', 'Croatia', 'Fiji', 'South Africa', 'India', 'Ethiopia',\n",
       "       'Ireland', 'Chile', 'Antigua And Barbuda', 'Uganda', 'China',\n",
       "       'Cambodia', 'Paraguay', 'Thailand', 'Belgium', 'Gambia', 'Uruguay',\n",
       "       'Tanzania', 'Mali', 'Indonesia', 'Bahrain', 'Kazakhstan', 'Egypt',\n",
       "       'Russia', 'Cyprus', \"Cote D'ivoire\", 'Nigeria', 'Greenland',\n",
       "       'Vietnam', 'New Zealand', 'Singapore', 'Ghana', 'Gabon', 'Nepal',\n",
       "       'Slovakia', 'Finland', 'Liberia', 'Romania', 'Maldives',\n",
       "       'Antarctica', 'Zimbabwe', 'Botswana', 'Isle of Man', 'Latvia',\n",
       "       'Niger', 'French Polynesia', 'Guadeloupe', 'Ivory Coast',\n",
       "       'Tunisia', 'Eritrea', 'Gibraltar', 'Namibia', 'Czech Republic',\n",
       "       'Benin', 'Bosnia And Herzegovina', 'Israel', 'Estonia',\n",
       "       'St Kitts And Nevis', 'Sierra Leone', 'Corsica', 'Scotland',\n",
       "       'Reunion', 'United Arab Emirates', 'Afghanistan', 'Ukraine',\n",
       "       'Hungary', 'Bangladesh', 'Morocco', 'Iraq', 'Jordan', 'Qatar',\n",
       "       'Madagascar', 'Malawi', 'Central Africa', 'South Sudan',\n",
       "       'Saint Barthelemy', 'Micronesia', 'South Korea', 'Kyrgyzstan',\n",
       "       'Turks And Caicos', 'Eswatini', 'Tokelau', 'Sint Maarten', 'Macao',\n",
       "       'Seychelles', 'Rwanda', 'Palau', 'Luxembourg', 'Lebanon',\n",
       "       'Bosnia and Herzegovina', 'Libya', 'Guinea',\n",
       "       'Saint Vincent and the Grenadines', 'UN', 'Iran', 'Lithuania',\n",
       "       'Malampa', 'Antigua and Barbuda', 'AY', 'Chad', 'Cayenne',\n",
       "       'New Caledonia', 'Yemen', 'Slovenia', 'Nauru', 'Niue', 'Bulgaria',\n",
       "       'Republic of North Macedonia', 'Virgin Islands', 'Somalia',\n",
       "       'Pacific Ocean', 'Obyan', 'Mauritania', 'Albania', 'Wolseley',\n",
       "       'Wallis and Futuna', 'Saint Pierre and Miquelon', 'Georgia',\n",
       "       \"Côte d'Ivoire\", 'South Korean', 'Serbia', 'MU', 'Guernsey',\n",
       "       'Great Britain', 'Turks and Caicos Islands'], dtype=object)"
      ]
     },
     "execution_count": 151,
     "metadata": {},
     "output_type": "execute_result"
    }
   ],
   "source": [
    "# Countries where these incidents took place\n",
    "print(f'These incidents took place in {df[\"Country\"].nunique()} Countries: ')\n",
    "df['Country'].unique()"
   ]
  },
  {
   "cell_type": "code",
   "execution_count": 152,
   "metadata": {},
   "outputs": [
    {
     "name": "stdout",
     "output_type": "stream",
     "text": [
      "These incidents took place in 27758 locations: \n"
     ]
    },
    {
     "data": {
      "text/plain": [
       "array(['MOOSE CREEK, ID', 'BRIDGEPORT, CA', 'Saltville, VA', ...,\n",
       "       'San Manual, AZ', 'Auburn Hills, MI', 'Brasnorte, '], dtype=object)"
      ]
     },
     "execution_count": 152,
     "metadata": {},
     "output_type": "execute_result"
    }
   ],
   "source": [
    "# Locations where these incidents took place\n",
    "print(f'These incidents took place in {df[\"Location\"].nunique()} locations: ')\n",
    "df['Location'].unique()"
   ]
  },
  {
   "cell_type": "markdown",
   "metadata": {},
   "source": [
    "What is the purpose for flight"
   ]
  },
  {
   "cell_type": "code",
   "execution_count": 153,
   "metadata": {},
   "outputs": [
    {
     "name": "stdout",
     "output_type": "stream",
     "text": [
      "There are 26 purposes of flight: \n"
     ]
    },
    {
     "data": {
      "text/plain": [
       "array(['Personal', 'Business', 'Instructional', 'Unknown', 'Ferry',\n",
       "       'Executive/corporate', 'Aerial Observation', 'Aerial Application',\n",
       "       'Public Aircraft', 'Skydiving', 'Other Work Use', 'Positioning',\n",
       "       'Flight Test', 'Air Race/show', 'Air Drop',\n",
       "       'Public Aircraft - Federal', 'Glider Tow',\n",
       "       'Public Aircraft - Local', 'External Load',\n",
       "       'Public Aircraft - State', 'Banner Tow', 'Firefighting',\n",
       "       'Air Race show', 'PUBS', 'ASHO', 'PUBL'], dtype=object)"
      ]
     },
     "execution_count": 153,
     "metadata": {},
     "output_type": "execute_result"
    }
   ],
   "source": [
    "# Unique purposes of flight\n",
    "print(f'There are {df[\"Purpose.of.flight\"].nunique()} purposes of flight: ')\n",
    "df['Purpose.of.flight'].unique()"
   ]
  },
  {
   "cell_type": "markdown",
   "metadata": {},
   "source": [
    "With this information, I will look to answer the following questions:\n",
    "\n"
   ]
  },
  {
   "cell_type": "markdown",
   "metadata": {},
   "source": [
    "\n",
    "## Statistical analysis of the dataset\n",
    "\n",
    "Performing statistical analysis is essential to understand the dataset, detect data quality issues like outliers, and uncover relationships between variables. It helps turn raw data into actionable insights, guiding decision-making and allowing me to test hypotheses with data-driven evidence. In this project, it will help identify trends in aviation incidents, supporting informed decisions about aircraft purchases, safety measures, and current trends.\n",
    "\n",
    "In this section, I intend to perform the following:\n",
    "\n",
    "    1. Find distributions in the numerical data\n",
    "    2. Perform correlation analysis\n",
    "    3. Perform frequency counts for categorical data\n",
    "    4. Find data outliers\n",
    "    5. Conduct trend analysis\n",
    "    6. Carry out geographical analysis\n",
    "    7. Compare all the above metrics and come up with insights\n",
    "\n",
    "### Analysis of the numerical data\n",
    "\n",
    "Find numerical columns in the dataframe:"
   ]
  },
  {
   "cell_type": "code",
   "execution_count": 154,
   "metadata": {},
   "outputs": [
    {
     "data": {
      "text/plain": [
       "['Number.of.Engines',\n",
       " 'Total.Fatal.Injuries',\n",
       " 'Total.Serious.Injuries',\n",
       " 'Total.Minor.Injuries',\n",
       " 'Total.Uninjured']"
      ]
     },
     "execution_count": 154,
     "metadata": {},
     "output_type": "execute_result"
    }
   ],
   "source": [
    "#numerical columns in the dataframe\n",
    "numeric_columns = [col for col in df.columns if df[col].dtype in ['float64', 'int64']]\n",
    "numeric_columns"
   ]
  },
  {
   "cell_type": "markdown",
   "metadata": {},
   "source": [
    "Find the count, mean, standard deviation, minimum value, quantiles, and maximum values of the numerical columns in the dataframe using the .describe() method. The mean gives the average value, which shows the central tendency of a dataset, similar to the quantiles. The min and max values on the other hand give the outliers of the dataset. "
   ]
  },
  {
   "cell_type": "code",
   "execution_count": 155,
   "metadata": {},
   "outputs": [
    {
     "data": {
      "text/html": [
       "<div>\n",
       "<style scoped>\n",
       "    .dataframe tbody tr th:only-of-type {\n",
       "        vertical-align: middle;\n",
       "    }\n",
       "\n",
       "    .dataframe tbody tr th {\n",
       "        vertical-align: top;\n",
       "    }\n",
       "\n",
       "    .dataframe thead th {\n",
       "        text-align: right;\n",
       "    }\n",
       "</style>\n",
       "<table border=\"1\" class=\"dataframe\">\n",
       "  <thead>\n",
       "    <tr style=\"text-align: right;\">\n",
       "      <th></th>\n",
       "      <th>Number.of.Engines</th>\n",
       "      <th>Total.Fatal.Injuries</th>\n",
       "      <th>Total.Serious.Injuries</th>\n",
       "      <th>Total.Minor.Injuries</th>\n",
       "      <th>Total.Uninjured</th>\n",
       "    </tr>\n",
       "  </thead>\n",
       "  <tbody>\n",
       "    <tr>\n",
       "      <th>count</th>\n",
       "      <td>88889.000000</td>\n",
       "      <td>88889.000000</td>\n",
       "      <td>88889.000000</td>\n",
       "      <td>88889.000000</td>\n",
       "      <td>88889.000000</td>\n",
       "    </tr>\n",
       "    <tr>\n",
       "      <th>mean</th>\n",
       "      <td>1.136552</td>\n",
       "      <td>0.564761</td>\n",
       "      <td>0.240491</td>\n",
       "      <td>0.309127</td>\n",
       "      <td>5.037755</td>\n",
       "    </tr>\n",
       "    <tr>\n",
       "      <th>std</th>\n",
       "      <td>0.432545</td>\n",
       "      <td>5.126649</td>\n",
       "      <td>1.434614</td>\n",
       "      <td>2.083715</td>\n",
       "      <td>26.990914</td>\n",
       "    </tr>\n",
       "    <tr>\n",
       "      <th>min</th>\n",
       "      <td>0.000000</td>\n",
       "      <td>0.000000</td>\n",
       "      <td>0.000000</td>\n",
       "      <td>0.000000</td>\n",
       "      <td>0.000000</td>\n",
       "    </tr>\n",
       "    <tr>\n",
       "      <th>25%</th>\n",
       "      <td>1.000000</td>\n",
       "      <td>0.000000</td>\n",
       "      <td>0.000000</td>\n",
       "      <td>0.000000</td>\n",
       "      <td>0.000000</td>\n",
       "    </tr>\n",
       "    <tr>\n",
       "      <th>50%</th>\n",
       "      <td>1.000000</td>\n",
       "      <td>0.000000</td>\n",
       "      <td>0.000000</td>\n",
       "      <td>0.000000</td>\n",
       "      <td>1.000000</td>\n",
       "    </tr>\n",
       "    <tr>\n",
       "      <th>75%</th>\n",
       "      <td>1.000000</td>\n",
       "      <td>0.000000</td>\n",
       "      <td>0.000000</td>\n",
       "      <td>0.000000</td>\n",
       "      <td>2.000000</td>\n",
       "    </tr>\n",
       "    <tr>\n",
       "      <th>max</th>\n",
       "      <td>8.000000</td>\n",
       "      <td>349.000000</td>\n",
       "      <td>161.000000</td>\n",
       "      <td>380.000000</td>\n",
       "      <td>699.000000</td>\n",
       "    </tr>\n",
       "  </tbody>\n",
       "</table>\n",
       "</div>"
      ],
      "text/plain": [
       "       Number.of.Engines  Total.Fatal.Injuries  Total.Serious.Injuries  \\\n",
       "count       88889.000000          88889.000000            88889.000000   \n",
       "mean            1.136552              0.564761                0.240491   \n",
       "std             0.432545              5.126649                1.434614   \n",
       "min             0.000000              0.000000                0.000000   \n",
       "25%             1.000000              0.000000                0.000000   \n",
       "50%             1.000000              0.000000                0.000000   \n",
       "75%             1.000000              0.000000                0.000000   \n",
       "max             8.000000            349.000000              161.000000   \n",
       "\n",
       "       Total.Minor.Injuries  Total.Uninjured  \n",
       "count          88889.000000     88889.000000  \n",
       "mean               0.309127         5.037755  \n",
       "std                2.083715        26.990914  \n",
       "min                0.000000         0.000000  \n",
       "25%                0.000000         0.000000  \n",
       "50%                0.000000         1.000000  \n",
       "75%                0.000000         2.000000  \n",
       "max              380.000000       699.000000  "
      ]
     },
     "execution_count": 155,
     "metadata": {},
     "output_type": "execute_result"
    }
   ],
   "source": [
    "df[['Number.of.Engines', 'Total.Fatal.Injuries', 'Total.Serious.Injuries', \n",
    "    'Total.Minor.Injuries', 'Total.Uninjured']].describe()\n"
   ]
  },
  {
   "cell_type": "markdown",
   "metadata": {},
   "source": [
    "Find the median of numerical values in the dataset. The median represents the middle value. Comparing the two helps understand if the data is skewed. For example, if the mean is higher than the median, it suggests the presence of higher values pulling the average up."
   ]
  },
  {
   "cell_type": "code",
   "execution_count": 156,
   "metadata": {},
   "outputs": [
    {
     "name": "stdout",
     "output_type": "stream",
     "text": [
      "\n",
      "\n",
      "The median of the numerical columns are:\n",
      "\n",
      "Number.of.Engines         1.0\n",
      "Total.Fatal.Injuries      0.0\n",
      "Total.Serious.Injuries    0.0\n",
      "Total.Minor.Injuries      0.0\n",
      "Total.Uninjured           1.0\n",
      "dtype: float64\n"
     ]
    }
   ],
   "source": [
    "median = df[['Number.of.Engines', 'Total.Fatal.Injuries', 'Total.Serious.Injuries',\n",
    "    'Total.Minor.Injuries', 'Total.Uninjured']].median()\n",
    "\n",
    "print(f'\\n\\nThe median of the numerical columns are:\\n\\n{median}')"
   ]
  },
  {
   "cell_type": "markdown",
   "metadata": {},
   "source": [
    "Finding the variance and standard deviation of numerical values in the dataset. The variance measures how spread out the data is, and the standard deviation gives this spread in the same units as the data. These are crucial for understanding the variability within the dataset, helping to identify whether most accidents result in similar outcomes or if there is wide fluctuation."
   ]
  },
  {
   "cell_type": "code",
   "execution_count": 157,
   "metadata": {},
   "outputs": [
    {
     "name": "stdout",
     "output_type": "stream",
     "text": [
      "The variance of the numerical columns are:\n",
      "\n",
      "Number.of.Engines           0.187095\n",
      "Total.Fatal.Injuries       26.282529\n",
      "Total.Serious.Injuries      2.058118\n",
      "Total.Minor.Injuries        4.341866\n",
      "Total.Uninjured           728.509420\n",
      "dtype: float64\n",
      "\n",
      "\n",
      "The standard deviation of the numerical columns are:\n",
      "\n",
      "Number.of.Engines          0.432545\n",
      "Total.Fatal.Injuries       5.126649\n",
      "Total.Serious.Injuries     1.434614\n",
      "Total.Minor.Injuries       2.083715\n",
      "Total.Uninjured           26.990914\n",
      "dtype: float64\n"
     ]
    }
   ],
   "source": [
    "variance = df[['Number.of.Engines', 'Total.Fatal.Injuries', 'Total.Serious.Injuries',\n",
    "    'Total.Minor.Injuries', 'Total.Uninjured']].var()\n",
    "\n",
    "standard_deviation = df[['Number.of.Engines', 'Total.Fatal.Injuries', 'Total.Serious.Injuries',\n",
    "    'Total.Minor.Injuries', 'Total.Uninjured']].std()\n",
    "\n",
    "print(f'The variance of the numerical columns are:\\n\\n{variance}')\n",
    "\n",
    "print(f'\\n\\nThe standard deviation of the numerical columns are:\\n\\n{standard_deviation}')"
   ]
  },
  {
   "cell_type": "markdown",
   "metadata": {},
   "source": [
    "Create a correlation matrix. The covariance matrix is a measure of how two variables change together. It helps quantify the direction of the linear relationship between variables. "
   ]
  },
  {
   "cell_type": "code",
   "execution_count": 158,
   "metadata": {},
   "outputs": [
    {
     "name": "stdout",
     "output_type": "stream",
     "text": [
      "                        Number.of.Engines  Total.Fatal.Injuries  \\\n",
      "Number.of.Engines                1.000000              0.050789   \n",
      "Total.Fatal.Injuries             0.050789              1.000000   \n",
      "Total.Serious.Injuries           0.028226              0.108066   \n",
      "Total.Minor.Injuries             0.052285              0.035698   \n",
      "Total.Uninjured                  0.344710             -0.015009   \n",
      "\n",
      "                        Total.Serious.Injuries  Total.Minor.Injuries  \\\n",
      "Number.of.Engines                     0.028226              0.052285   \n",
      "Total.Fatal.Injuries                  0.108066              0.035698   \n",
      "Total.Serious.Injuries                1.000000              0.216400   \n",
      "Total.Minor.Injuries                  0.216400              1.000000   \n",
      "Total.Uninjured                       0.042116              0.098340   \n",
      "\n",
      "                        Total.Uninjured  \n",
      "Number.of.Engines              0.344710  \n",
      "Total.Fatal.Injuries          -0.015009  \n",
      "Total.Serious.Injuries         0.042116  \n",
      "Total.Minor.Injuries           0.098340  \n",
      "Total.Uninjured                1.000000  \n"
     ]
    }
   ],
   "source": [
    "correlation_matrix = df[['Number.of.Engines', 'Total.Fatal.Injuries', 'Total.Serious.Injuries',\n",
    "                         'Total.Minor.Injuries', 'Total.Uninjured']].corr()\n",
    "print(correlation_matrix)\n"
   ]
  },
  {
   "cell_type": "markdown",
   "metadata": {},
   "source": [
    "Skewness measures the asymmetry of the data distribution. Kurtosis measures the \"tailedness\" or the presence of extreme values (outliers). These metrics help in understanding the distribution's shape and whether outliers dominate."
   ]
  },
  {
   "cell_type": "code",
   "execution_count": 159,
   "metadata": {},
   "outputs": [
    {
     "name": "stdout",
     "output_type": "stream",
     "text": [
      "Skewness:\n",
      " Number.of.Engines          2.706529\n",
      "Total.Fatal.Injuries      35.318019\n",
      "Total.Serious.Injuries    53.005957\n",
      "Total.Minor.Injuries      93.380236\n",
      "Total.Uninjured            9.413431\n",
      "dtype: float64\n",
      "Kurtosis:\n",
      " Number.of.Engines            13.149635\n",
      "Total.Fatal.Injuries       1552.209819\n",
      "Total.Serious.Injuries     4315.727391\n",
      "Total.Minor.Injuries      14193.993494\n",
      "Total.Uninjured             112.312668\n",
      "dtype: float64\n"
     ]
    }
   ],
   "source": [
    "# Calculating skewness using pandas\n",
    "skewness = df[['Number.of.Engines', 'Total.Fatal.Injuries', 'Total.Serious.Injuries',\n",
    "               'Total.Minor.Injuries', 'Total.Uninjured']].skew()\n",
    "\n",
    "# Calculating kurtosis using pandas\n",
    "kurtosis = df[['Number.of.Engines', 'Total.Fatal.Injuries', 'Total.Serious.Injuries',\n",
    "               'Total.Minor.Injuries', 'Total.Uninjured']].kurt()\n",
    "\n",
    "print(\"Skewness:\\n\", skewness)\n",
    "print(\"Kurtosis:\\n\", kurtosis)\n"
   ]
  },
  {
   "cell_type": "markdown",
   "metadata": {},
   "source": [
    "Correlation measures the strength of the relationship between two variables. Strong correlations can highlight factors that might be contributing to higher injury or fatality rates, helping in understanding key drivers of safety outcomes."
   ]
  },
  {
   "cell_type": "code",
   "execution_count": 160,
   "metadata": {},
   "outputs": [
    {
     "name": "stdout",
     "output_type": "stream",
     "text": [
      "Correlation Matrix:\n",
      "                         Number.of.Engines  Total.Fatal.Injuries  \\\n",
      "Number.of.Engines                1.000000              0.050789   \n",
      "Total.Fatal.Injuries             0.050789              1.000000   \n",
      "Total.Serious.Injuries           0.028226              0.108066   \n",
      "Total.Minor.Injuries             0.052285              0.035698   \n",
      "Total.Uninjured                  0.344710             -0.015009   \n",
      "\n",
      "                        Total.Serious.Injuries  Total.Minor.Injuries  \\\n",
      "Number.of.Engines                     0.028226              0.052285   \n",
      "Total.Fatal.Injuries                  0.108066              0.035698   \n",
      "Total.Serious.Injuries                1.000000              0.216400   \n",
      "Total.Minor.Injuries                  0.216400              1.000000   \n",
      "Total.Uninjured                       0.042116              0.098340   \n",
      "\n",
      "                        Total.Uninjured  \n",
      "Number.of.Engines              0.344710  \n",
      "Total.Fatal.Injuries          -0.015009  \n",
      "Total.Serious.Injuries         0.042116  \n",
      "Total.Minor.Injuries           0.098340  \n",
      "Total.Uninjured                1.000000  \n"
     ]
    }
   ],
   "source": [
    "# Correlation matrix for the numerical columns\n",
    "correlation_matrix = df[['Number.of.Engines', 'Total.Fatal.Injuries', 'Total.Serious.Injuries',\n",
    "                         'Total.Minor.Injuries', 'Total.Uninjured']].corr()\n",
    "\n",
    "print(\"Correlation Matrix:\\n\", correlation_matrix)\n"
   ]
  },
  {
   "cell_type": "markdown",
   "metadata": {},
   "source": [
    "## Insights from statistical analysis the numerical data"
   ]
  },
  {
   "cell_type": "markdown",
   "metadata": {},
   "source": [
    "### Number of Engines\n",
    "From the measures of central tendencies in the .describe(), We can gather that: \n",
    "\n",
    "The mean engines used in aircrafts is 1.14, slightly higher than the median of 1, indicating a lot of planes with 1 engine are involved in incidences, with the slight difference between mean and median indicating some planes with more than 1 engine are involved in incidences.\n",
    "\n",
    "#### Plot to support the same\n",
    "A plot of number of engines against number of incidences can help prove this"
   ]
  },
  {
   "cell_type": "code",
   "execution_count": 161,
   "metadata": {},
   "outputs": [
    {
     "data": {
      "image/png": "[encoded data removed]",
      "text/plain": [
       "<Figure size 576x432 with 1 Axes>"
      ]
     },
     "metadata": {
      "needs_background": "light"
     },
     "output_type": "display_data"
    }
   ],
   "source": [
    "# Counting the number of incidents for each number of engines\n",
    "engine_incidents = df['Number.of.Engines'].value_counts().sort_index()\n",
    "\n",
    "# Plotting the bar graph\n",
    "plt.figure(figsize=(8, 6))\n",
    "plt.bar(engine_incidents.index, engine_incidents.values, color='red', edgecolor='black')\n",
    "\n",
    "# Adding titles and labels\n",
    "plt.title('Number of Incidents by Number of Engines', fontsize=14)\n",
    "plt.xlabel('Number of Engines', fontsize=12)\n",
    "plt.ylabel('Number of Incidents', fontsize=12)\n",
    "\n",
    "# Show plot\n",
    "plt.show()"
   ]
  },
  {
   "cell_type": "markdown",
   "metadata": {},
   "source": [
    "### Total Fatal Injuries\n",
    "With a mean of 0.56 and a median of 0, it indicates that most incidents do not have fatalities, but have big outliers, indicating when incidents occur, they claim a lot of fatalities"
   ]
  },
  {
   "cell_type": "code",
   "execution_count": 162,
   "metadata": {
    "scrolled": true
   },
   "outputs": [
    {
     "data": {
      "image/png": "[encoded data removed]",
      "text/plain": [
       "<Figure size 720x576 with 1 Axes>"
      ]
     },
     "metadata": {
      "needs_background": "light"
     },
     "output_type": "display_data"
    }
   ],
   "source": [
    "# Wider Box plot with strip plot for Total Fatal Injuries\n",
    "plt.figure(figsize=(10, 8))  # Increase the figure size for a wider plot\n",
    "\n",
    "# Create the box plot\n",
    "sns.boxplot(y=df['Total.Fatal.Injuries'], color='red')\n",
    "\n",
    "# Overlay a strip plot to show individual data points\n",
    "sns.stripplot(y=df['Total.Fatal.Injuries'], color='blue', size=5, jitter=True)\n",
    "\n",
    "# Adding titles and labels\n",
    "plt.title('Box Plot with Individual Points for Total Fatal Injuries', fontsize=16)\n",
    "plt.ylabel('Total Fatal Injuries', fontsize=14)\n",
    "\n",
    "# Show plot\n",
    "plt.show()\n"
   ]
  },
  {
   "cell_type": "markdown",
   "metadata": {},
   "source": [
    "### Total serious and Minor Injuries"
   ]
  },
  {
   "cell_type": "markdown",
   "metadata": {},
   "source": [
    "They both have a median of 0, which shows accidents rarely result in any injuries, but with a mean of 0.24 for serious injuries and 0.31 for minor injuries, it is probable that when incidents occur they could lead to significant injuries"
   ]
  },
  {
   "cell_type": "code",
   "execution_count": 163,
   "metadata": {},
   "outputs": [
    {
     "data": {
      "image/png": "[encoded data removed]",
      "text/plain": [
       "<Figure size 864x576 with 1 Axes>"
      ]
     },
     "metadata": {
      "needs_background": "light"
     },
     "output_type": "display_data"
    }
   ],
   "source": [
    "# Wider Violin plot with strip plot for Total Serious and Minor Injuries\n",
    "plt.figure(figsize=(12, 8))  # Increase the figure size for a wider plot\n",
    "\n",
    "# Create the violin plot\n",
    "sns.violinplot(data=df[['Total.Serious.Injuries', 'Total.Minor.Injuries']], inner=None, color='lightgray')\n",
    "\n",
    "# Overlay a strip plot to show individual data points with jitter for visibility\n",
    "sns.stripplot(data=df[['Total.Serious.Injuries', 'Total.Minor.Injuries']], color='blue', size=5, jitter=True)\n",
    "\n",
    "plt.title('Violin Plot with Individual Points for Total Serious and Minor Injuries', fontsize=16)\n",
    "plt.ylabel('Number of Injuries', fontsize=14)\n",
    "plt.xticks(fontsize=12)\n",
    "plt.yticks(fontsize=12)\n",
    "plt.show()\n"
   ]
  },
  {
   "cell_type": "markdown",
   "metadata": {},
   "source": [
    "### Total Uninjured"
   ]
  },
  {
   "cell_type": "markdown",
   "metadata": {},
   "source": [
    "There mean of total uninjured people is 5.4, way higher than the mode of 1 which means accidents involve a single uninjured person, but there are a few incidents where many passengers escape unscathed"
   ]
  },
  {
   "cell_type": "markdown",
   "metadata": {},
   "source": [
    "### Variance and Standard deviations"
   ]
  },
  {
   "cell_type": "markdown",
   "metadata": {},
   "source": [
    "First, the Total Fatal Injuries has a very high variance (26.28) and standard deviation (5.13), which could be an indicator that in many incidences, there exists the presence of extreme events with many fatalities. \n",
    "\n",
    "The Total Uninjured also has a high standard deviation (26.99), which shows significant variation in the number of passengers escape without injuries. This indicates that some accidents result in everyone surviving, while others have a smaller proportion of survivors."
   ]
  },
  {
   "cell_type": "markdown",
   "metadata": {},
   "source": [
    "### Corelation, Skewness and Kurtosis"
   ]
  },
  {
   "cell_type": "markdown",
   "metadata": {},
   "source": [
    "1. Number of Engines is weakly correlated with all injury-related metrics, indicating that having more engines does not strongly influence the number of fatalities or injuries.However from the mean, they have been involved in a lot more incidences. \n",
    "2. Total Minor Injuries has a modest correlation with Total Serious Injuries (0.216), suggesting that accidents with serious injuries are somewhat more likely to also involve minor injuries.\n",
    "3. All numerical columns exhibit positive skewness, meaning the distributions are heavily skewed to the right. This suggests that most accidents involve low or no fatalities/injuries, but there are a few extreme cases where many injuries or fatalities occur.\n",
    "4. Kurtosis is extremely high, especially for Total.Fatal.Injuries (1552.21), Total.Serious.Injuries (4315.73), and Total.Minor.Injuries (14193.99). This indicates the presence of significant outliers—major accidents with high numbers of fatalities and injuries are very rare but highly impactful when they occur."
   ]
  },
  {
   "cell_type": "markdown",
   "metadata": {},
   "source": [
    "## Insights from statistical analysis categorical and numerical data"
   ]
  },
  {
   "cell_type": "code",
   "execution_count": 164,
   "metadata": {},
   "outputs": [
    {
     "data": {
      "text/plain": [
       "Make                Model           \n",
       "CESSNA              172                 96\n",
       "ROBINSON            R44                 80\n",
       "CESSNA              182                 56\n",
       "PIPER               PA28                50\n",
       "CIRRUS DESIGN CORP  SR22                47\n",
       "                                        ..\n",
       "DIAL DAVID L        TITAN TORNADO II     1\n",
       "DIAMOND             DA 20-C1             1\n",
       "                    DA-40                1\n",
       "                    DA40                 1\n",
       "de Havilland        DHC-2 MK I           1\n",
       "Length: 2680, dtype: int64"
      ]
     },
     "execution_count": 164,
     "metadata": {},
     "output_type": "execute_result"
    }
   ],
   "source": [
    "# Grouping by Make and Model and summing the Fatal incidents for all combinations\n",
    "fatality_sums = df[df['Injury.Severity'] == 'Fatal'].groupby(['Make', 'Model']).size()\n",
    "\n",
    "# Sorting and printing all make and model fatality counts\n",
    "fatality_sums_sorted = fatality_sums.sort_values(ascending=False)\n",
    "\n",
    "# Displaying the result\n",
    "fatality_sums_sorted"
   ]
  },
  {
   "cell_type": "code",
   "execution_count": 165,
   "metadata": {},
   "outputs": [
    {
     "data": {
      "text/plain": [
       "Engine.Type\n",
       "Reciprocating    4648\n",
       "Turbo Prop        275\n",
       "Turbo Shaft       243\n",
       "Turbo Fan          58\n",
       "Turbo Jet          27\n",
       "Unknown             7\n",
       "Electric            2\n",
       "Hybrid Rocket       1\n",
       "None                1\n",
       "dtype: int64"
      ]
     },
     "execution_count": 165,
     "metadata": {},
     "output_type": "execute_result"
    }
   ],
   "source": [
    "# Grouping by Engine Type to sum the fatal incidents\n",
    "fatality_by_engine = df[df['Injury.Severity'] == 'Fatal'].groupby('Engine.Type').size()\n",
    "\n",
    "# Sorting and displaying the engine types with the highest number of fatal incidents\n",
    "fatality_by_engine_sorted = fatality_by_engine.sort_values(ascending=False)\n",
    "\n",
    "# Displaying the top 10 engine types with the most fatal incidents\n",
    "fatality_by_engine_sorted.head(10)"
   ]
  },
  {
   "cell_type": "code",
   "execution_count": 166,
   "metadata": {},
   "outputs": [
    {
     "name": "stdout",
     "output_type": "stream",
     "text": [
      "Top 10 aircraft models with the most incidents in United States:\n",
      "Make    Model    \n",
      "Cessna  152          2158\n",
      "        172          1225\n",
      "        172N          980\n",
      "Piper   PA-28-140     798\n",
      "Cessna  150           709\n",
      "        172M          645\n",
      "        172P          591\n",
      "Piper   PA-18         536\n",
      "Cessna  150M          534\n",
      "Piper   PA-28-161     495\n",
      "dtype: int64\n",
      "\n",
      "\n",
      "Top 10 aircraft models with the most incidents in Brazil:\n",
      "Make      Model\n",
      "ROBINSON  R44      19\n",
      "PIPER     PA25     10\n",
      "BOEING    737       9\n",
      "BEECH     58        8\n",
      "BELL      206       7\n",
      "CESSNA    182       7\n",
      "          210       7\n",
      "BEECH     C90       6\n",
      "CESSNA    188       5\n",
      "          208       5\n",
      "dtype: int64\n",
      "\n",
      "\n",
      "Top 10 aircraft models with the most incidents in Canada:\n",
      "Make      Model\n",
      "ROBINSON  R44      9\n",
      "BOEING    737      8\n",
      "Bell      206B     7\n",
      "Cessna    A185F    5\n",
      "CESSNA    172      5\n",
      "Cessna    208B     4\n",
      "BOEING    767      4\n",
      "CESSNA    182      4\n",
      "Cessna    172      3\n",
      "BELL      206B     3\n",
      "dtype: int64\n",
      "\n",
      "\n",
      "Top 10 aircraft models with the most incidents in Mexico:\n",
      "Make      Model\n",
      "BOEING    737      18\n",
      "PIPER     PA25     11\n",
      "Cessna    182       8\n",
      "AIRBUS    A320      6\n",
      "Boeing    737       6\n",
      "CESSNA    182       5\n",
      "          208       5\n",
      "          401       4\n",
      "ROBINSON  R44       4\n",
      "Bell      407       4\n",
      "dtype: int64\n",
      "\n",
      "\n",
      "Top 10 aircraft models with the most incidents in United Kingdom:\n",
      "Make      Model  \n",
      "BOEING    737        27\n",
      "          777         6\n",
      "          747         5\n",
      "SIKORSKY  S92         4\n",
      "BOEING    787         4\n",
      "PIPER     PA28        4\n",
      "BEECH     200         4\n",
      "Boeing    747-400     3\n",
      "BOEING    737-800     3\n",
      "CESSNA    172         3\n",
      "dtype: int64\n",
      "\n",
      "\n"
     ]
    }
   ],
   "source": [
    "# Grouping by Country to get the total number of incidents per country\n",
    "incidents_by_country = df.groupby('Country').size()\n",
    "\n",
    "# Sorting the countries by number of incidents in descending order and selecting the top 5\n",
    "top_5_countries = incidents_by_country.sort_values(ascending=False).head(5)\n",
    "\n",
    "# Grouping by Country, Make, and Model to analyze accident frequency\n",
    "incidents_by_country_model = df.groupby(['Country', 'Make', 'Model']).size()\n",
    "\n",
    "# Loop through each of the top 5 countries and display the top 10 models for each\n",
    "for country in top_5_countries.index:\n",
    "    print(f\"Top 10 aircraft models with the most incidents in {country}:\")\n",
    "    \n",
    "    # Filter for the specific country\n",
    "    country_incidents = incidents_by_country_model.loc[country]\n",
    "    \n",
    "    # Sort the results and display the top 10 models with the highest number of incidents\n",
    "    country_incidents_sorted = country_incidents.sort_values(ascending=False).head(10)\n",
    "    \n",
    "    # Displaying the result\n",
    "    print(country_incidents_sorted)\n",
    "    print(\"\\n\")\n"
   ]
  },
  {
   "cell_type": "code",
   "execution_count": 167,
   "metadata": {},
   "outputs": [
    {
     "data": {
      "image/png": "[encoded data removed]",
      "text/plain": [
       "<Figure size 720x432 with 1 Axes>"
      ]
     },
     "metadata": {
      "needs_background": "light"
     },
     "output_type": "display_data"
    }
   ],
   "source": [
    "import matplotlib.pyplot as plt\n",
    "\n",
    "# Group by Model and count the number of incidents\n",
    "incidents_by_model = df['Model'].value_counts().head(10)  # Top 10 models by incident count\n",
    "\n",
    "# Plot the result\n",
    "plt.figure(figsize=(10, 6))\n",
    "incidents_by_model.plot(kind='bar', color='salmon')\n",
    "plt.title('Top 10 Aircraft Models by Number of Incidents')\n",
    "plt.xlabel('Aircraft Model')\n",
    "plt.ylabel('Number of Incidents')\n",
    "plt.xticks(rotation=45)\n",
    "plt.show()\n"
   ]
  },
  {
   "cell_type": "code",
   "execution_count": 168,
   "metadata": {},
   "outputs": [
    {
     "data": {
      "image/png": "[encoded data removed]",
      "text/plain": [
       "<Figure size 720x432 with 1 Axes>"
      ]
     },
     "metadata": {
      "needs_background": "light"
     },
     "output_type": "display_data"
    }
   ],
   "source": [
    "# Group by Model and count the number of fatal incidents\n",
    "fatal_incidents_by_model = df[df['Injury.Severity'] == 'Fatal']['Model'].value_counts().head(10)\n",
    "\n",
    "# Plot the result\n",
    "plt.figure(figsize=(10, 6))\n",
    "fatal_incidents_by_model.plot(kind='bar', color='red')\n",
    "plt.title('Top 10 Aircraft Models by Number of Fatal Incidents')\n",
    "plt.xlabel('Aircraft Model')\n",
    "plt.ylabel('Number of Fatal Incidents')\n",
    "plt.xticks(rotation=45)\n",
    "plt.show()\n"
   ]
  },
  {
   "cell_type": "code",
   "execution_count": 169,
   "metadata": {},
   "outputs": [
    {
     "data": {
      "image/png": "[encoded data removed]",
      "text/plain": [
       "<Figure size 864x432 with 1 Axes>"
      ]
     },
     "metadata": {
      "needs_background": "light"
     },
     "output_type": "display_data"
    }
   ],
   "source": [
    "import seaborn as sns\n",
    "import matplotlib.pyplot as plt\n",
    "\n",
    "# Filter data for models with more than 5 incidents for meaningful comparison\n",
    "top_models = df['Model'].value_counts().head(10).index\n",
    "df_filtered = df[df['Model'].isin(top_models)]\n",
    "\n",
    "# Box plot for Total Fatal Injuries by Aircraft Model\n",
    "plt.figure(figsize=(12, 6))\n",
    "\n",
    "# Create the box plot\n",
    "sns.boxplot(x='Model', y='Total.Fatal.Injuries', data=df_filtered, color='lightblue')\n",
    "\n",
    "# Overlay a strip plot to show individual data points\n",
    "sns.stripplot(x='Model', y='Total.Fatal.Injuries', data=df_filtered, color='red', size=5, jitter=True)\n",
    "\n",
    "# Customize titles and labels\n",
    "plt.title('Box Plot of Total Fatal Injuries by Aircraft Model with Individual Data Points', fontsize=16)\n",
    "plt.xlabel('Aircraft Model', fontsize=12)\n",
    "plt.ylabel('Total Fatal Injuries', fontsize=12)\n",
    "\n",
    "# Rotate the x-axis labels for better visibility\n",
    "plt.xticks(rotation=45)\n",
    "\n",
    "# Show the plot\n",
    "plt.show()\n"
   ]
  },
  {
   "cell_type": "code",
   "execution_count": 170,
   "metadata": {},
   "outputs": [
    {
     "data": {
      "image/png": "[encoded data removed]",
      "text/plain": [
       "<Figure size 720x432 with 2 Axes>"
      ]
     },
     "metadata": {
      "needs_background": "light"
     },
     "output_type": "display_data"
    }
   ],
   "source": [
    "# Group by Engine Type and Injury Severity (for Fatal incidents)\n",
    "fatal_by_engine_type = df[df['Injury.Severity'] == 'Fatal'].groupby('Engine.Type').size()\n",
    "\n",
    "# Convert to DataFrame and sort\n",
    "fatal_by_engine_type = fatal_by_engine_type.reset_index().rename(columns={0: 'Fatal Incidents'}).sort_values(by='Fatal Incidents', ascending=False).head(10)\n",
    "\n",
    "# Plot a heatmap\n",
    "plt.figure(figsize=(10, 6))\n",
    "sns.heatmap(fatal_by_engine_type.set_index('Engine.Type').T, annot=True, cmap=\"Reds\")\n",
    "plt.title('Heatmap of Fatal Incidents by Engine Type')\n",
    "plt.show()\n"
   ]
  },
  {
   "cell_type": "code",
   "execution_count": 171,
   "metadata": {},
   "outputs": [
    {
     "data": {
      "image/png": "[encoded data removed]",
      "text/plain": [
       "<Figure size 576x432 with 1 Axes>"
      ]
     },
     "metadata": {
      "needs_background": "light"
     },
     "output_type": "display_data"
    }
   ],
   "source": [
    "# Group by Amateur.Built and count the number of incidents\n",
    "amateur_built_counts = df['Amateur.Built'].value_counts()\n",
    "\n",
    "# Plot the bar chart\n",
    "plt.figure(figsize=(8, 6))\n",
    "amateur_built_counts.plot(kind='bar', color=['blue', 'orange'])\n",
    "plt.title('Incidents by Amateur Built Aircraft')\n",
    "plt.xlabel('Amateur Built (Yes/No)')\n",
    "plt.ylabel('Number of Incidents')\n",
    "plt.xticks(rotation=0)\n",
    "plt.show()"
   ]
  },
  {
   "cell_type": "code",
   "execution_count": 172,
   "metadata": {},
   "outputs": [
    {
     "data": {
      "text/plain": [
       "Index(['Event.Id', 'Investigation.Type', 'Accident.Number', 'Event.Date',\n",
       "       'Location', 'Country', 'Injury.Severity', 'Aircraft.damage',\n",
       "       'Registration.Number', 'Make', 'Model', 'Amateur.Built',\n",
       "       'Number.of.Engines', 'Engine.Type', 'Purpose.of.flight',\n",
       "       'Total.Fatal.Injuries', 'Total.Serious.Injuries',\n",
       "       'Total.Minor.Injuries', 'Total.Uninjured', 'Weather.Condition',\n",
       "       'Report.Status', 'Publication.Date'],\n",
       "      dtype='object')"
      ]
     },
     "execution_count": 172,
     "metadata": {},
     "output_type": "execute_result"
    }
   ],
   "source": [
    "df.columns"
   ]
  },
  {
   "cell_type": "code",
   "execution_count": 173,
   "metadata": {},
   "outputs": [
    {
     "data": {
      "image/png": "[encoded data removed]",
      "text/plain": [
       "<Figure size 720x432 with 1 Axes>"
      ]
     },
     "metadata": {
      "needs_background": "light"
     },
     "output_type": "display_data"
    }
   ],
   "source": [
    "# Convert Event.Date to datetime format (if not already done)\n",
    "df['Event.Date'] = pd.to_datetime(df['Event.Date'], errors='coerce')\n",
    "\n",
    "# Extract the year from the Event.Date column\n",
    "df['Year'] = df['Event.Date'].dt.year\n",
    "\n",
    "# Group by year and count the number of incidents per year\n",
    "accidents_per_year = df.groupby('Year').size()\n",
    "\n",
    "# Plot the trend of accidents over time\n",
    "plt.figure(figsize=(10, 6))\n",
    "accidents_per_year.plot(kind='line', color='blue', marker='o')\n",
    "plt.title('Trend of Accidents Over Time')\n",
    "plt.xlabel('Year')\n",
    "plt.ylabel('Number of Accidents')\n",
    "plt.grid(True)\n",
    "plt.show()"
   ]
  },
  {
   "cell_type": "code",
   "execution_count": 174,
   "metadata": {},
   "outputs": [
    {
     "data": {
      "image/png": "[encoded data removed]",
      "text/plain": [
       "<Figure size 720x432 with 1 Axes>"
      ]
     },
     "metadata": {
      "needs_background": "light"
     },
     "output_type": "display_data"
    }
   ],
   "source": [
    "# Group by Purpose.of.flight and count the number of incidents\n",
    "accidents_by_purpose = df['Purpose.of.flight'].value_counts()\n",
    "\n",
    "# Plot a bar chart to show accidents based on the purpose of flight\n",
    "plt.figure(figsize=(10, 6))\n",
    "accidents_by_purpose.plot(kind='bar', color='blue')\n",
    "plt.title('Accidents Based on Purpose of Flight')\n",
    "plt.xlabel('Purpose of Flight')\n",
    "plt.ylabel('Number of Accidents')\n",
    "plt.xticks(rotation=90)\n",
    "plt.show()"
   ]
  },
  {
   "cell_type": "code",
   "execution_count": null,
   "metadata": {},
   "outputs": [],
   "source": []
  },
  {
   "cell_type": "code",
   "execution_count": 175,
   "metadata": {},
   "outputs": [
    {
     "data": {
      "image/png": "[encoded data removed]",
      "text/plain": [
       "<Figure size 1152x720 with 2 Axes>"
      ]
     },
     "metadata": {
      "needs_background": "light"
     },
     "output_type": "display_data"
    }
   ],
   "source": [
    "# Filter data for models with more than 5 incidents for meaningful comparison\n",
    "top_models = df['Model'].value_counts().head(10).index\n",
    "df_filtered = df[df['Model'].isin(top_models)]\n",
    "\n",
    "# Group by Make, Model, and Weather Condition, then sum up the casualties\n",
    "weather_casualties = df_filtered.groupby(['Make', 'Model', 'Weather.Condition'])[['Total.Fatal.Injuries', 'Total.Serious.Injuries', 'Total.Minor.Injuries']].sum().reset_index()\n",
    "\n",
    "# Pivot the table to get a better format for visualization (Total Fatal Injuries in this case)\n",
    "weather_casualties_pivot = weather_casualties.pivot_table(index=['Make', 'Model'], columns='Weather.Condition', values='Total.Fatal.Injuries', fill_value=0)\n",
    "\n",
    "# Set up a larger figure size for more space\n",
    "plt.figure(figsize=(16, 10))\n",
    "\n",
    "# Plotting the heatmap for the relationship between weather conditions and fatalities\n",
    "sns.heatmap(weather_casualties_pivot, cmap='Reds', annot=True, fmt='g', linewidths=.5)\n",
    "\n",
    "# Adding titles and labels with larger font sizes\n",
    "plt.title('Relationship Between Weather Conditions and Fatal Injuries per Make and Model', fontsize=20)\n",
    "plt.xlabel('Weather Condition', fontsize=14)\n",
    "plt.ylabel('Aircraft Make and Model', fontsize=14)\n",
    "\n",
    "# Rotate the x-axis labels for better readability\n",
    "plt.xticks(rotation=90, ha='right', fontsize=12)\n",
    "plt.yticks(fontsize=12)\n",
    "\n",
    "# Add more space between the elements\n",
    "plt.tight_layout(pad=3)\n",
    "\n",
    "# Display the plot\n",
    "plt.show()"
   ]
  },
  {
   "cell_type": "code",
   "execution_count": 176,
   "metadata": {},
   "outputs": [
    {
     "name": "stdout",
     "output_type": "stream",
     "text": [
      "['Unk' 'Imc' 'Vmc']\n"
     ]
    }
   ],
   "source": []
  }
 ],
 "metadata": {
  "kernelspec": {
   "display_name": "Python (learn-env)",
   "language": "python",
   "name": "learn-env"
  },
  "language_info": {
   "codemirror_mode": {
    "name": "ipython",
    "version": 3
   },
   "file_extension": ".py",
   "mimetype": "text/x-python",
   "name": "python",
   "nbconvert_exporter": "python",
   "pygments_lexer": "ipython3",
   "version": "3.8.5"
  }
 },
 "nbformat": 4,
 "nbformat_minor": 4
}
