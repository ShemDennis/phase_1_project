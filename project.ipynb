{
 "cells": [
  {
   "cell_type": "markdown",
   "metadata": {},
   "source": [
    "# Phase 1 Project"
   ]
  },
  {
   "cell_type": "markdown",
   "metadata": {},
   "source": [
    "## Introduction"
   ]
  },
  {
   "cell_type": "markdown",
   "metadata": {},
   "source": [
    "### Dataset explanation"
   ]
  },
  {
   "cell_type": "markdown",
   "metadata": {},
   "source": [
    "For this project, I am presented with datasets named \"AviationData.csv\" and \"USState_Codes.csv\" for analysis. Using this data I am required to perform Data Cleaning, and analysis which yields in findings and actionable insights that the head of a new aviation division can use to help decide which aircraft to purchase."
   ]
  },
  {
   "cell_type": "markdown",
   "metadata": {},
   "source": [
    "## Description  of the datasets"
   ]
  },
  {
   "cell_type": "markdown",
   "metadata": {},
   "source": [
    "### Importing Modules"
   ]
  },
  {
   "cell_type": "code",
   "execution_count": 36,
   "metadata": {},
   "outputs": [],
   "source": [
    "import pandas as pd\n",
    "import matplotlib.pyplot as plt\n",
    "import numpy as np\n",
    "import seaborn as sns\n",
    "\n",
    "%matplotlib inline"
   ]
  },
  {
   "cell_type": "markdown",
   "metadata": {},
   "source": [
    "### Loading Datasets"
   ]
  },
  {
   "cell_type": "code",
   "execution_count": 37,
   "metadata": {},
   "outputs": [],
   "source": [
    "df = pd.read_csv('AviationData.csv', encoding='Latin', dtype=dtype_spec,low_memory=False)\n"
   ]
  },
  {
   "cell_type": "code",
   "execution_count": 38,
   "metadata": {},
   "outputs": [
    {
     "data": {
      "text/plain": [
       "Index(['Event.Id', 'Investigation.Type', 'Accident.Number', 'Event.Date',\n",
       "       'Location', 'Country', 'Latitude', 'Longitude', 'Airport.Code',\n",
       "       'Airport.Name', 'Injury.Severity', 'Aircraft.damage',\n",
       "       'Aircraft.Category', 'Registration.Number', 'Make', 'Model',\n",
       "       'Amateur.Built', 'Number.of.Engines', 'Engine.Type', 'FAR.Description',\n",
       "       'Schedule', 'Purpose.of.flight', 'Air.carrier', 'Total.Fatal.Injuries',\n",
       "       'Total.Serious.Injuries', 'Total.Minor.Injuries', 'Total.Uninjured',\n",
       "       'Weather.Condition', 'Broad.phase.of.flight', 'Report.Status',\n",
       "       'Publication.Date'],\n",
       "      dtype='object')"
      ]
     },
     "execution_count": 38,
     "metadata": {},
     "output_type": "execute_result"
    }
   ],
   "source": [
    "df.columns"
   ]
  },
  {
   "cell_type": "code",
   "execution_count": 39,
   "metadata": {},
   "outputs": [
    {
     "data": {
      "text/plain": [
       "(88889, 31)"
      ]
     },
     "execution_count": 39,
     "metadata": {},
     "output_type": "execute_result"
    }
   ],
   "source": [
    "df.shape"
   ]
  },
  {
   "cell_type": "code",
   "execution_count": 40,
   "metadata": {},
   "outputs": [
    {
     "data": {
      "text/plain": [
       "<bound method NDFrame.describe of              Event.Id Investigation.Type Accident.Number  Event.Date  \\\n",
       "0      20001218X45444           Accident      SEA87LA080  1948-10-24   \n",
       "1      20001218X45447           Accident      LAX94LA336  1962-07-19   \n",
       "2      20061025X01555           Accident      NYC07LA005  1974-08-30   \n",
       "3      20001218X45448           Accident      LAX96LA321  1977-06-19   \n",
       "4      20041105X01764           Accident      CHI79FA064  1979-08-02   \n",
       "...               ...                ...             ...         ...   \n",
       "88884  20221227106491           Accident      ERA23LA093  2022-12-26   \n",
       "88885  20221227106494           Accident      ERA23LA095  2022-12-26   \n",
       "88886  20221227106497           Accident      WPR23LA075  2022-12-26   \n",
       "88887  20221227106498           Accident      WPR23LA076  2022-12-26   \n",
       "88888  20221230106513           Accident      ERA23LA097  2022-12-29   \n",
       "\n",
       "              Location        Country   Latitude   Longitude Airport.Code  \\\n",
       "0      MOOSE CREEK, ID  United States        NaN         NaN          NaN   \n",
       "1       BRIDGEPORT, CA  United States        NaN         NaN          NaN   \n",
       "2        Saltville, VA  United States  36.922223  -81.878056          NaN   \n",
       "3           EUREKA, CA  United States        NaN         NaN          NaN   \n",
       "4           Canton, OH  United States        NaN         NaN          NaN   \n",
       "...                ...            ...        ...         ...          ...   \n",
       "88884    Annapolis, MD  United States        NaN         NaN          NaN   \n",
       "88885      Hampton, NH  United States        NaN         NaN          NaN   \n",
       "88886       Payson, AZ  United States    341525N    1112021W          PAN   \n",
       "88887       Morgan, UT  United States        NaN         NaN          NaN   \n",
       "88888       Athens, GA  United States        NaN         NaN          NaN   \n",
       "\n",
       "      Airport.Name  ... Purpose.of.flight         Air.carrier  \\\n",
       "0              NaN  ...          Personal                 NaN   \n",
       "1              NaN  ...          Personal                 NaN   \n",
       "2              NaN  ...          Personal                 NaN   \n",
       "3              NaN  ...          Personal                 NaN   \n",
       "4              NaN  ...          Personal                 NaN   \n",
       "...            ...  ...               ...                 ...   \n",
       "88884          NaN  ...          Personal                 NaN   \n",
       "88885          NaN  ...               NaN                 NaN   \n",
       "88886       PAYSON  ...          Personal                 NaN   \n",
       "88887          NaN  ...          Personal  MC CESSNA 210N LLC   \n",
       "88888          NaN  ...          Personal                 NaN   \n",
       "\n",
       "      Total.Fatal.Injuries Total.Serious.Injuries Total.Minor.Injuries  \\\n",
       "0                      2.0                    0.0                  0.0   \n",
       "1                      4.0                    0.0                  0.0   \n",
       "2                      3.0                    NaN                  NaN   \n",
       "3                      2.0                    0.0                  0.0   \n",
       "4                      1.0                    2.0                  NaN   \n",
       "...                    ...                    ...                  ...   \n",
       "88884                  0.0                    1.0                  0.0   \n",
       "88885                  0.0                    0.0                  0.0   \n",
       "88886                  0.0                    0.0                  0.0   \n",
       "88887                  0.0                    0.0                  0.0   \n",
       "88888                  0.0                    1.0                  0.0   \n",
       "\n",
       "      Total.Uninjured Weather.Condition  Broad.phase.of.flight  \\\n",
       "0                 0.0               UNK                 Cruise   \n",
       "1                 0.0               UNK                Unknown   \n",
       "2                 NaN               IMC                 Cruise   \n",
       "3                 0.0               IMC                 Cruise   \n",
       "4                 0.0               VMC               Approach   \n",
       "...               ...               ...                    ...   \n",
       "88884             0.0               NaN                    NaN   \n",
       "88885             0.0               NaN                    NaN   \n",
       "88886             1.0               VMC                    NaN   \n",
       "88887             0.0               NaN                    NaN   \n",
       "88888             1.0               NaN                    NaN   \n",
       "\n",
       "        Report.Status Publication.Date  \n",
       "0      Probable Cause              NaN  \n",
       "1      Probable Cause       19-09-1996  \n",
       "2      Probable Cause       26-02-2007  \n",
       "3      Probable Cause       12-09-2000  \n",
       "4      Probable Cause       16-04-1980  \n",
       "...               ...              ...  \n",
       "88884             NaN       29-12-2022  \n",
       "88885             NaN              NaN  \n",
       "88886             NaN       27-12-2022  \n",
       "88887             NaN              NaN  \n",
       "88888             NaN       30-12-2022  \n",
       "\n",
       "[88889 rows x 31 columns]>"
      ]
     },
     "execution_count": 40,
     "metadata": {},
     "output_type": "execute_result"
    }
   ],
   "source": [
    "df.describe"
   ]
  },
  {
   "cell_type": "markdown",
   "metadata": {},
   "source": [
    "#### What have I learnt?"
   ]
  },
  {
   "cell_type": "markdown",
   "metadata": {},
   "source": [
    "The dataset contains 88,889 aviation incidents with 31 columns detailing event dates, locations, aircraft info, and injury severities. It has missing values in key fields like geographic data and injuries, and mixed data types that require cleaning."
   ]
  },
  {
   "cell_type": "markdown",
   "metadata": {},
   "source": [
    "## Cleaning the datasets"
   ]
  },
  {
   "cell_type": "code",
   "execution_count": null,
   "metadata": {},
   "outputs": [],
   "source": [
    "### Dealing with Null Values"
   ]
  },
  {
   "cell_type": "code",
   "execution_count": 43,
   "metadata": {
    "scrolled": true
   },
   "outputs": [
    {
     "data": {
      "text/plain": [
       "Event.Id                      0\n",
       "Investigation.Type            0\n",
       "Accident.Number               0\n",
       "Event.Date                    0\n",
       "Location                     52\n",
       "Country                     226\n",
       "Latitude                  54507\n",
       "Longitude                 54516\n",
       "Airport.Code              38640\n",
       "Airport.Name              36099\n",
       "Injury.Severity            1000\n",
       "Aircraft.damage            3194\n",
       "Aircraft.Category         56602\n",
       "Registration.Number        1317\n",
       "Make                         63\n",
       "Model                        92\n",
       "Amateur.Built               102\n",
       "Number.of.Engines          6084\n",
       "Engine.Type                7077\n",
       "FAR.Description           56866\n",
       "Schedule                  76307\n",
       "Purpose.of.flight          6192\n",
       "Air.carrier               72241\n",
       "Total.Fatal.Injuries      11401\n",
       "Total.Serious.Injuries    12510\n",
       "Total.Minor.Injuries      11933\n",
       "Total.Uninjured            5912\n",
       "Weather.Condition          4492\n",
       "Broad.phase.of.flight     27165\n",
       "Report.Status              6381\n",
       "Publication.Date          13771\n",
       "dtype: int64"
      ]
     },
     "execution_count": 43,
     "metadata": {},
     "output_type": "execute_result"
    }
   ],
   "source": [
    "df.isnull().sum()"
   ]
  },
  {
   "cell_type": "code",
   "execution_count": 44,
   "metadata": {},
   "outputs": [
    {
     "data": {
      "text/plain": [
       "0"
      ]
     },
     "execution_count": 44,
     "metadata": {},
     "output_type": "execute_result"
    }
   ],
   "source": [
    "df.duplicated().sum()"
   ]
  }
 ],
 "metadata": {
  "kernelspec": {
   "display_name": "Python (learn-env)",
   "language": "python",
   "name": "learn-env"
  },
  "language_info": {
   "codemirror_mode": {
    "name": "ipython",
    "version": 3
   },
   "file_extension": ".py",
   "mimetype": "text/x-python",
   "name": "python",
   "nbconvert_exporter": "python",
   "pygments_lexer": "ipython3",
   "version": "3.8.5"
  }
 },
 "nbformat": 4,
 "nbformat_minor": 4
}
